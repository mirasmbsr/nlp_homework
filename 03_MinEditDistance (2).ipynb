{
 "cells": [
  {
   "cell_type": "markdown",
   "metadata": {
    "id": "wt4sVtx0CqPh"
   },
   "source": [
    "# **Minimum Edit Distance 3**"
   ]
  },
  {
   "cell_type": "markdown",
   "metadata": {
    "id": "4ZpQZ813DSgW"
   },
   "source": [
    "# **Write up: Briefly Define your Algorithm**\n",
    "\n",
    "*Place your write up here as to how you implemented the minimum edit distance algorithm. Be as clear as you can, but don't over do it.*\n",
    "\n",
    "**Minimum Edit Distance**<br>\n",
    "I first make a matrix with the length of the target + 1 by the source + 1. I also initialize the matrix's first row and column by adding values from 0 to the length of the source + 1 for the row and the length of the target + 1 for the column. The algorithm starts at the index [1,1] wherein I check whether the character at the row index of the source matches the character at the column index of the target matches each other. If they do, then the I copy the value diagonally to the top left of it which becomes the new entry of the matrix, meaning it is a match. Otherwise, I get the values one index up + 1(insert), to the left + 1(delete), and diagonally to the top left + 2(mismatch) and choose which among the three is the minimum. Then the minimum will be the new entry in the matrix. I continue this as I traverse each index of the matrix from left to right and top to bottom. The last entry of the matrix will result to the minimum edit distance for the source and target strings.<br><br>\n",
    "**Backtracing**<br>\n",
    "For the back tracing portion, I had to traverse from the bottom right, to the top most index while choosing the path with the least weight. While in a loop, I choose between the value above, to the left, and diagonally to the top left whether which is the minimum. There are four conditions I have to check to know which minimum operation to use to help assign the alignments. I check for a mismatch, meaning the diagonal value is the minimum and is minus 2 of the current index, I check for a match wherein the diagonal value is the minimum and is the same as the current index, an insertion where the minium value is to the left of the current index, and lastly a delete operation which is one value above the current index. I have an operation string that keeps getting appendend with the minimum operation as I back trace throught the matrix. For the alignments, if I get a mismatch, I just copy both characters from the source and target's row and column index respectively. I do the same thing for a match. If I get an insertion, the target alignment gets a \"-\" character while the source alignment gets the column index of the original string. Lastly for a deletion, the source alignment gets a \"-\" character while the target alignment gets the character at the row index of the orginal string."
   ]
  },
  {
   "cell_type": "markdown",
   "metadata": {
    "id": "nnzCsnf1E4V1"
   },
   "source": [
    "# **Solution**\n",
    "\n",
    "*Kindly place your solution in the code block below. You may use multiple code blocks if you see the need to do so.*"
   ]
  },
  {
   "cell_type": "code",
   "execution_count": 1,
   "metadata": {
    "id": "NrwRtPvmMl9p"
   },
   "outputs": [],
   "source": [
    "i = 4\n",
    "j = 4"
   ]
  },
  {
   "cell_type": "code",
   "execution_count": 2,
   "metadata": {
    "colab": {
     "base_uri": "https://localhost:8080/"
    },
    "id": "ZYh1iyt5Ml9r",
    "outputId": "5a987f1e-c259-4ba1-c0aa-52a4cc01e36e"
   },
   "outputs": [
    {
     "data": {
      "text/plain": [
       "True"
      ]
     },
     "execution_count": 2,
     "metadata": {},
     "output_type": "execute_result"
    }
   ],
   "source": [
    "source, target = \"naruto's son\", \"boruto's dad\"\n",
    "source[i - 1] == target[j - 1]"
   ]
  },
  {
   "cell_type": "code",
   "execution_count": 3,
   "metadata": {
    "id": "xUjmPnDyMl9r"
   },
   "outputs": [],
   "source": [
    "rows, cols = len(source) + 1, len(target) + 1\n",
    "matrix = [[0] * cols for _ in range(rows)]\n",
    "\n",
    "for r in range(rows):\n",
    "    matrix[r][0] = r\n",
    "for c in range(cols):\n",
    "    matrix[0][c] = c\n"
   ]
  },
  {
   "cell_type": "code",
   "execution_count": 4,
   "metadata": {
    "colab": {
     "base_uri": "https://localhost:8080/"
    },
    "id": "Wtr0k0hQMl9s",
    "outputId": "233c0573-4e58-4ab7-9953-3195324895a1"
   },
   "outputs": [
    {
     "data": {
      "text/plain": [
       "[[0, 1, 2, 3, 4, 5, 6, 7, 8, 9, 10, 11, 12],\n",
       " [1, 0, 0, 0, 0, 0, 0, 0, 0, 0, 0, 0, 0],\n",
       " [2, 0, 0, 0, 0, 0, 0, 0, 0, 0, 0, 0, 0],\n",
       " [3, 0, 0, 0, 0, 0, 0, 0, 0, 0, 0, 0, 0],\n",
       " [4, 0, 0, 0, 0, 0, 0, 0, 0, 0, 0, 0, 0],\n",
       " [5, 0, 0, 0, 0, 0, 0, 0, 0, 0, 0, 0, 0],\n",
       " [6, 0, 0, 0, 0, 0, 0, 0, 0, 0, 0, 0, 0],\n",
       " [7, 0, 0, 0, 0, 0, 0, 0, 0, 0, 0, 0, 0],\n",
       " [8, 0, 0, 0, 0, 0, 0, 0, 0, 0, 0, 0, 0],\n",
       " [9, 0, 0, 0, 0, 0, 0, 0, 0, 0, 0, 0, 0],\n",
       " [10, 0, 0, 0, 0, 0, 0, 0, 0, 0, 0, 0, 0],\n",
       " [11, 0, 0, 0, 0, 0, 0, 0, 0, 0, 0, 0, 0],\n",
       " [12, 0, 0, 0, 0, 0, 0, 0, 0, 0, 0, 0, 0]]"
      ]
     },
     "execution_count": 4,
     "metadata": {},
     "output_type": "execute_result"
    }
   ],
   "source": [
    "matrix"
   ]
  },
  {
   "cell_type": "markdown",
   "metadata": {
    "id": "sLJ58qrlMl9s"
   },
   "source": [
    "[[0, 1, 2, 3, 4, 5, 6, 7, 8, 9, 10, 11, 12],\n",
    "\n",
    " [1, 0, 0, 0, 0, 0, 0, 0, 0, 0, 0, 0, 0],\n",
    "\n",
    " [2, 0, 0, 0, 0, 0, 0, 0, 0, 0, 0, 0, 0],\n",
    "\n",
    " [3, 0, 0, 0, 0, 0, 0, 0, 0, 0, 0, 0, 0],\n",
    "\n",
    " [4, 0, 0, 0, 0, 0, 0, 0, 0, 0, 0, 0, 0],\n",
    "\n",
    " [5, 0, 0, 0, 0, 0, 0, 0, 0, 0, 0, 0, 0],\n",
    "\n",
    " [6, 0, 0, 0, 0, 0, 0, 0, 0, 0, 0, 0, 0],\n",
    "\n",
    " [7, 0, 0, 0, 0, 0, 0, 0, 0, 0, 0, 0, 0],\n",
    "\n",
    " [8, 0, 0, 0, 0, 0, 0, 0, 0, 0, 0, 0, 0],\n",
    "\n",
    " [9, 0, 0, 0, 0, 0, 0, 0, 0, 0, 0, 0, 0],\n",
    "\n",
    " [10, 0, 0, 0, 0, 0, 0, 0, 0, 0, 0, 0, 0],\n",
    "\n",
    " [11, 0, 0, 0, 0, 0, 0, 0, 0, 0, 0, 0, 0],\n",
    "\n",
    " [12, 0, 0, 0, 0, 0, 0, 0, 0, 0, 0, 0, 0]]"
   ]
  },
  {
   "cell_type": "code",
   "execution_count": 5,
   "metadata": {
    "id": "VWXYiyqmOYgM"
   },
   "outputs": [],
   "source": [
    "def reverse(string):\n",
    "    return string[::-1]\n",
    "\n",
    "\n",
    "def getMinEditDistance(source, target):\n",
    "    m, n = len(source), len(target)\n",
    "\n",
    "\n",
    "    matrix = [[0] * (n + 1) for _ in range(m + 1)]\n",
    "\n",
    "\n",
    "    for i in range(m + 1):\n",
    "        matrix[i][0] = i\n",
    "    for j in range(n + 1):\n",
    "        matrix[0][j] = j\n",
    "\n",
    "    for i in range(1, m + 1):\n",
    "        for j in range(1, n + 1):\n",
    "            cost = 0 if source[i - 1] == target[j - 1] else 2  \n",
    "            matrix[i][j] = min(\n",
    "                matrix[i - 1][j] + 1,        \n",
    "                matrix[i][j - 1] + 1,        \n",
    "                matrix[i - 1][j - 1] + cost  \n",
    "            )\n",
    "\n",
    "    return matrix[m][n], matrix\n"
   ]
  },
  {
   "cell_type": "code",
   "execution_count": 6,
   "metadata": {
    "colab": {
     "base_uri": "https://localhost:8080/"
    },
    "id": "aNV-O5k1Ml9t",
    "outputId": "0c562a58-4e49-4a57-d675-febfed7cc0f0"
   },
   "outputs": [
    {
     "data": {
      "text/plain": [
       "(10,\n",
       " [[0, 1, 2, 3, 4, 5, 6, 7, 8, 9, 10, 11, 12],\n",
       "  [1, 2, 3, 4, 5, 6, 7, 8, 9, 10, 11, 12, 13],\n",
       "  [2, 3, 4, 5, 6, 7, 8, 9, 10, 11, 12, 11, 12],\n",
       "  [3, 4, 5, 4, 5, 6, 7, 8, 9, 10, 11, 12, 13],\n",
       "  [4, 5, 6, 5, 4, 5, 6, 7, 8, 9, 10, 11, 12],\n",
       "  [5, 6, 7, 6, 5, 4, 5, 6, 7, 8, 9, 10, 11],\n",
       "  [6, 7, 6, 7, 6, 5, 4, 5, 6, 7, 8, 9, 10],\n",
       "  [7, 8, 7, 8, 7, 6, 5, 4, 5, 6, 7, 8, 9],\n",
       "  [8, 9, 8, 9, 8, 7, 6, 5, 4, 5, 6, 7, 8],\n",
       "  [9, 10, 9, 10, 9, 8, 7, 6, 5, 4, 5, 6, 7],\n",
       "  [10, 11, 10, 11, 10, 9, 8, 7, 6, 5, 6, 7, 8],\n",
       "  [11, 12, 11, 12, 11, 10, 9, 8, 7, 6, 7, 8, 9],\n",
       "  [12, 13, 12, 13, 12, 11, 10, 9, 8, 7, 8, 9, 10]])"
      ]
     },
     "execution_count": 6,
     "metadata": {},
     "output_type": "execute_result"
    }
   ],
   "source": [
    "getMinEditDistance(\"naruto's son\", \"boruto's dad\")"
   ]
  },
  {
   "cell_type": "code",
   "execution_count": 7,
   "metadata": {
    "id": "gfXU5Xc4E_ud"
   },
   "outputs": [],
   "source": [
    "def reverse(string):\n",
    "    return string[::-1]\n",
    "\n",
    "\n",
    "def getMinEditDistance(source, target):\n",
    "    m, n = len(source), len(target)\n",
    "\n",
    "    matrix = [[0] * (n + 1) for _ in range(m + 1)]\n",
    "\n",
    "    for i in range(m + 1):\n",
    "        matrix[i][0] = i\n",
    "    for j in range(n + 1):\n",
    "        matrix[0][j] = j\n",
    "\n",
    "    for i in range(1, m + 1):\n",
    "        for j in range(1, n + 1):\n",
    "            if source[i - 1] == target[j - 1]:\n",
    "                matrix[i][j] = matrix[i - 1][j - 1]   \n",
    "            else:\n",
    "                matrix[i][j] = min(\n",
    "                    matrix[i - 1][j] + 1,        \n",
    "                    matrix[i][j - 1] + 1,        \n",
    "                    matrix[i - 1][j - 1] + 2     \n",
    "                )\n",
    "\n",
    "    print(\"Source:\", source)\n",
    "    print(\"Target:\", target)\n",
    "    print(\"-----\")\n",
    "    print(\"Distance:\", matrix[m][n])\n",
    "    print(\"Alignment:\")\n",
    "\n",
    "    \n",
    "    t_alignment, s_alignment = \"\", \"\"\n",
    "    row, col = m, n\n",
    "    operations = \"\"\n",
    "\n",
    "    while row > 0 or col > 0:\n",
    "        if row > 0 and col > 0 and source[row - 1] == target[col - 1]:\n",
    "            operations += \" \"\n",
    "            t_alignment += source[row - 1]\n",
    "            s_alignment += target[col - 1]\n",
    "            row -= 1\n",
    "            col -= 1\n",
    "\n",
    "        elif row > 0 and col > 0 and matrix[row][col] == matrix[row - 1][col - 1] + 2:\n",
    "            operations += \"M\"\n",
    "            t_alignment += source[row - 1]\n",
    "            s_alignment += target[col - 1]\n",
    "            row -= 1\n",
    "            col -= 1\n",
    "\n",
    "        elif col > 0 and matrix[row][col] == matrix[row][col - 1] + 1:\n",
    "            operations += \"I\"\n",
    "            t_alignment += \"-\"\n",
    "            s_alignment += target[col - 1]\n",
    "            col -= 1\n",
    "\n",
    "        elif row > 0 and matrix[row][col] == matrix[row - 1][col] + 1:\n",
    "            operations += \"D\"\n",
    "            t_alignment += source[row - 1]\n",
    "            s_alignment += \"-\"\n",
    "            row -= 1\n",
    "\n",
    "    print(reverse(t_alignment))\n",
    "    print(reverse(operations))\n",
    "    print(reverse(s_alignment))\n"
   ]
  },
  {
   "cell_type": "markdown",
   "metadata": {
    "id": "Z0g8gfIKukjx"
   },
   "source": [
    "#**Test Cases**\n",
    "\n",
    "**Legend**<br>\n",
    "I - Insert <br>\n",
    "D - Delete <br>\n",
    "M - Mismatch <br>\n",
    "\" \" - Match"
   ]
  },
  {
   "cell_type": "code",
   "execution_count": 8,
   "metadata": {
    "colab": {
     "base_uri": "https://localhost:8080/"
    },
    "id": "uZ6Vs8DzMl9w",
    "outputId": "8ba6c302-d982-49a3-dd96-02f1846ae623"
   },
   "outputs": [
    {
     "name": "stdout",
     "output_type": "stream",
     "text": [
      "Source: naruto's son\n",
      "Target: boruto's dad\n",
      "-----\n",
      "Distance: 10\n",
      "Alignment:\n",
      "naruto's son\n",
      "MM       MMM\n",
      "boruto's dad\n"
     ]
    }
   ],
   "source": [
    "getMinEditDistance(\"naruto's son\", \"boruto's dad\")"
   ]
  },
  {
   "cell_type": "code",
   "execution_count": 9,
   "metadata": {
    "colab": {
     "base_uri": "https://localhost:8080/"
    },
    "id": "JeCgiFHbMl9w",
    "outputId": "d0120e0b-b2fd-495f-b773-2d7f888e7a14"
   },
   "outputs": [
    {
     "name": "stdout",
     "output_type": "stream",
     "text": [
      "Source: kumakain\n",
      "Target: kumain\n",
      "-----\n",
      "Distance: 2\n",
      "Alignment:\n",
      "kumakain\n",
      "   DD   \n",
      "kum--ain\n"
     ]
    }
   ],
   "source": [
    "getMinEditDistance(\"kumakain\", \"kumain\")"
   ]
  },
  {
   "cell_type": "code",
   "execution_count": 10,
   "metadata": {
    "colab": {
     "base_uri": "https://localhost:8080/"
    },
    "id": "R2axFdikMl9x",
    "outputId": "21fc5eeb-252e-4be0-af47-e7007e8ab589"
   },
   "outputs": [
    {
     "name": "stdout",
     "output_type": "stream",
     "text": [
      "Source: levinstien\n",
      "Target: levenshtein\n",
      "-----\n",
      "Distance: 5\n",
      "Alignment:\n",
      "levins-tie-n\n",
      "   M  I D I \n",
      "levensht-ein\n"
     ]
    }
   ],
   "source": [
    "getMinEditDistance(\"levinstien\", \"levenshtein\")"
   ]
  },
  {
   "cell_type": "code",
   "execution_count": 11,
   "metadata": {
    "colab": {
     "base_uri": "https://localhost:8080/"
    },
    "id": "I8Nt4WS4Ml9y",
    "outputId": "f81faeb0-b46a-41c0-d3b0-d703e4eda0a3"
   },
   "outputs": [
    {
     "name": "stdout",
     "output_type": "stream",
     "text": [
      "Source: leviathan\n",
      "Target: levenshtein\n",
      "-----\n",
      "Distance: 10\n",
      "Alignment:\n",
      "lev--iathan\n",
      "   IIMM MM \n",
      "levenshtein\n"
     ]
    }
   ],
   "source": [
    "getMinEditDistance(\"leviathan\", \"levenshtein\")"
   ]
  },
  {
   "cell_type": "code",
   "execution_count": 12,
   "metadata": {
    "colab": {
     "base_uri": "https://localhost:8080/"
    },
    "id": "t4hxM_RQMl9y",
    "outputId": "f31bbc4e-20b2-44b3-d165-4e663b97e876"
   },
   "outputs": [
    {
     "name": "stdout",
     "output_type": "stream",
     "text": [
      "Source: ATGCATCCCATGAC\n",
      "Target: TCTATATCCGT\n",
      "-----\n",
      "Distance: 11\n",
      "Alignment:\n",
      "ATGC-ATCCCAT--GAC\n",
      "D D I  DDD  II DM\n",
      "-T-CTAT---ATCCG-T\n"
     ]
    }
   ],
   "source": [
    "getMinEditDistance(\"ATGCATCCCATGAC\", \"TCTATATCCGT\")"
   ]
  },
  {
   "cell_type": "code",
   "execution_count": 13,
   "metadata": {
    "colab": {
     "base_uri": "https://localhost:8080/"
    },
    "id": "mx2UrAk_Ml9z",
    "outputId": "374793ba-1654-4f86-fe90-d75004d38c33"
   },
   "outputs": [
    {
     "name": "stdout",
     "output_type": "stream",
     "text": [
      "Source: AGGCTATCACCTGACCTCCAGGCCGATGCCCACCTGG\n",
      "Target: TAGCTATCACGACCGCGGTCGATTTGCCCGACGGTCC\n",
      "-----\n",
      "Distance: 18\n",
      "Alignment:\n",
      "-AGGCTATCACCTGACCTCCAGGCCGA--TGCCC-ACCTGG---\n",
      "I D       D D    DM D  M   II     I D D  III\n",
      "TA-GCTATCA-C-GACC-GC-GGTCGATTTGCCCGA-C-GGTCC\n"
     ]
    }
   ],
   "source": [
    "getMinEditDistance(\"AGGCTATCACCTGACCTCCAGGCCGATGCCCACCTGG\", \"TAGCTATCACGACCGCGGTCGATTTGCCCGACGGTCC\")"
   ]
  },
  {
   "cell_type": "markdown",
   "metadata": {
    "id": "fpMyWIhPMl90"
   },
   "source": [
    "### Your tasks-1:\n",
    "\n",
    "Run the function getMinEditDistance(source, target) on the following test cases:\n",
    "\n",
    "* \"kitten\" → \"sitting\"\n",
    "\n",
    "* \"flaw\" → \"lawn\"\n",
    "\n",
    "* \"intention\" → \"execution\"\n",
    "\n",
    "Write down:\n",
    "\n",
    "* the edit distance,\n",
    "\n",
    "* the sequence of operations (Insertion I, Deletion D, Mismatch M),\n",
    "\n",
    "* and the final alignment printed."
   ]
  },
  {
   "cell_type": "markdown",
   "metadata": {
    "id": "AVEkP93IMl90"
   },
   "source": [
    "### Your tasks-2:\n",
    "Extend the algorithm:\n",
    "Modify the function so that:\n",
    "\n",
    "Insertion = 1\n",
    "\n",
    "Deletion = 1\n",
    "\n",
    "Substitution = 1\n",
    "\n",
    "(Bonus) Transposition of two adjacent characters = 1\n",
    "\n",
    "Test your new algorithm on:\n",
    "\n",
    "\"abcd\" → \"acbd\""
   ]
  },
  {
   "cell_type": "code",
   "execution_count": 14,
   "metadata": {
    "colab": {
     "base_uri": "https://localhost:8080/"
    },
    "id": "SUWueqPUPHzw",
    "outputId": "3715c140-8b43-42a8-8111-4802d9f77b12"
   },
   "outputs": [
    {
     "name": "stdout",
     "output_type": "stream",
     "text": [
      "Source: kitten\n",
      "Target: sitting\n",
      "-----\n",
      "Distance: 5\n",
      "Alignment:\n",
      "kitten-\n",
      "M   M I\n",
      "sitting\n",
      "\n",
      "\n",
      "Source: flaw\n",
      "Target: lawn\n",
      "-----\n",
      "Distance: 2\n",
      "Alignment:\n",
      "flaw-\n",
      "D   I\n",
      "-lawn\n",
      "\n",
      "\n",
      "Source: intention\n",
      "Target: execution\n",
      "-----\n",
      "Distance: 8\n",
      "Alignment:\n",
      "inte-ntion\n",
      "DMM IM    \n",
      "-execution\n",
      "\n",
      "\n"
     ]
    }
   ],
   "source": [
    "def MinEditDistance(source, target, ins=1, delete=1, subst=2):\n",
    "\n",
    "    m, n = len(source), len(target)\n",
    "    D = [[0] * (n + 1) for _ in range(m + 1)]\n",
    "\n",
    "    \n",
    "    for i in range(m + 1):\n",
    "        D[i][0] = i * delete\n",
    "    for j in range(n + 1):\n",
    "        D[0][j] = j * ins\n",
    "\n",
    "    \n",
    "    for i in range(1, m + 1):\n",
    "        for j in range(1, n + 1):\n",
    "            cost = 0 if source[i - 1] == target[j - 1] else subst\n",
    "            D[i][j] = min(\n",
    "                D[i - 1][j] + delete,      \n",
    "                D[i][j - 1] + ins,        \n",
    "                D[i - 1][j - 1] + cost    \n",
    "            )\n",
    "\n",
    "\n",
    "    i, j = m, n\n",
    "    a_s, a_t, ops = [], [], []\n",
    "    while i > 0 or j > 0:\n",
    "        \n",
    "        if i > 0 and j > 0 and source[i - 1] == target[j - 1] and D[i][j] == D[i - 1][j - 1]:\n",
    "            a_s.append(source[i - 1])\n",
    "            a_t.append(target[j - 1])\n",
    "            ops.append(\" \")\n",
    "            i -= 1\n",
    "            j -= 1\n",
    "        \n",
    "        elif i > 0 and j > 0 and D[i][j] == D[i - 1][j - 1] + subst:\n",
    "            a_s.append(source[i - 1])\n",
    "            a_t.append(target[j - 1])\n",
    "            ops.append(\"M\")\n",
    "            i -= 1\n",
    "            j -= 1\n",
    "        \n",
    "        elif j > 0 and D[i][j] == D[i][j - 1] + ins:\n",
    "            a_s.append(\"-\")\n",
    "            a_t.append(target[j - 1])\n",
    "            ops.append(\"I\")\n",
    "            j -= 1\n",
    "        \n",
    "        elif i > 0 and D[i][j] == D[i - 1][j] + delete:\n",
    "            a_s.append(source[i - 1])\n",
    "            a_t.append(\"-\")\n",
    "            ops.append(\"D\")\n",
    "            i -= 1\n",
    "        else:\n",
    "            break\n",
    "\n",
    "    a_s = \"\".join(reversed(a_s))\n",
    "    ops = \"\".join(reversed(ops))\n",
    "    a_t = \"\".join(reversed(a_t))\n",
    "    return D[m][n], a_s, ops, a_t\n",
    "\n",
    "\n",
    "def show_case(s, t, ins=1, delete=1, subst=2):\n",
    "\n",
    "    d, a_s, ops, a_t = MinEditDistance(s, t, ins, delete, subst)\n",
    "    print(f\"Source: {s}\\nTarget: {t}\")\n",
    "    print(\"-----\")\n",
    "    print(f\"Distance: {d}\")\n",
    "    print(\"Alignment:\")\n",
    "    print(a_s)\n",
    "    print(ops)\n",
    "    print(a_t)\n",
    "    print(\"\\n\")\n",
    "\n",
    "\n",
    "\n",
    "show_case(\"kitten\", \"sitting\")      \n",
    "show_case(\"flaw\", \"lawn\")          \n",
    "show_case(\"intention\", \"execution\") \n"
   ]
  },
  {
   "cell_type": "code",
   "execution_count": 15,
   "metadata": {
    "colab": {
     "base_uri": "https://localhost:8080/"
    },
    "id": "qTt-zvqgPov0",
    "outputId": "e89be85d-2233-4110-cefe-b98f28617255"
   },
   "outputs": [
    {
     "name": "stdout",
     "output_type": "stream",
     "text": [
      "Source: abcd\n",
      "Target: acbd\n",
      "-----\n",
      "Distance: 1\n",
      "Alignment:\n",
      "abcd\n",
      " T \n",
      "acbd\n",
      "\n",
      "\n",
      "Source: ca\n",
      "Target: ac\n",
      "-----\n",
      "Distance: 1\n",
      "Alignment:\n",
      "ca\n",
      "T\n",
      "ac\n",
      "\n",
      "\n",
      "Source: abcdef\n",
      "Target: abcfed\n",
      "-----\n",
      "Distance: 2\n",
      "Alignment:\n",
      "abcdef\n",
      "   M M\n",
      "abcfed\n",
      "\n",
      "\n"
     ]
    }
   ],
   "source": [
    "def MinEditDistance(source, target, cost=1, allow_transposition=True):\n",
    "\n",
    "    m, n = len(source), len(target)\n",
    "    D = [[0] * (n + 1) for _ in range(m + 1)]\n",
    "\n",
    "   \n",
    "    for i in range(m + 1):\n",
    "        D[i][0] = i * cost\n",
    "    for j in range(n + 1):\n",
    "        D[0][j] = j * cost\n",
    "\n",
    "   \n",
    "    for i in range(1, m + 1):\n",
    "        for j in range(1, n + 1):\n",
    "            substitution_cost = 0 if source[i - 1] == target[j - 1] else cost\n",
    "            D[i][j] = min(\n",
    "                D[i - 1][j] + cost,             \n",
    "                D[i][j - 1] + cost,             \n",
    "                D[i - 1][j - 1] + substitution_cost   \n",
    "            )\n",
    "\n",
    "            if allow_transposition and i > 1 and j > 1 and source[i - 1] == target[j - 2] and source[i - 2] == target[j - 1]:\n",
    "                D[i][j] = min(D[i][j], D[i - 2][j - 2] + cost)\n",
    "\n",
    "\n",
    "    i, j = m, n\n",
    "    a_s, a_t, ops = [], [], []\n",
    "\n",
    "    while i > 0 or j > 0:\n",
    "\n",
    "        if i > 0 and j > 0 and source[i - 1] == target[j - 1] and D[i][j] == D[i - 1][j - 1]:\n",
    "            a_s.append(source[i - 1])\n",
    "            a_t.append(target[j - 1])\n",
    "            ops.append(\" \")\n",
    "            i -= 1\n",
    "            j -= 1\n",
    "\n",
    "        elif (\n",
    "            allow_transposition and i > 1 and j > 1\n",
    "            and source[i - 1] == target[j - 2]\n",
    "            and source[i - 2] == target[j - 1]\n",
    "            and D[i][j] == D[i - 2][j - 2] + cost\n",
    "        ):\n",
    "            a_s.append(source[i - 2:i])\n",
    "            a_t.append(target[j - 2:j])\n",
    "            ops.append(\"T\")\n",
    "            i -= 2\n",
    "            j -= 2\n",
    "\n",
    "        elif i > 0 and j > 0 and D[i][j] == D[i - 1][j - 1] + cost:\n",
    "            a_s.append(source[i - 1])\n",
    "            a_t.append(target[j - 1])\n",
    "            ops.append(\"M\")\n",
    "            i -= 1\n",
    "            j -= 1\n",
    "\n",
    "        elif j > 0 and D[i][j] == D[i][j - 1] + cost:\n",
    "            a_s.append(\"-\")\n",
    "            a_t.append(target[j - 1])\n",
    "            ops.append(\"I\")\n",
    "            j -= 1\n",
    "\n",
    "        elif i > 0 and D[i][j] == D[i - 1][j] + cost:\n",
    "            a_s.append(source[i - 1])\n",
    "            a_t.append(\"-\")\n",
    "            ops.append(\"D\")\n",
    "            i -= 1\n",
    "        else:\n",
    "            break\n",
    "\n",
    "    return D[m][n], \"\".join(reversed(a_s)), \"\".join(reversed(ops)), \"\".join(reversed(a_t))\n",
    "\n",
    "\n",
    "def show_case_MinEditDistance(s, t, cost=1, allow_transposition=True):\n",
    "    d, a_s, ops, a_t = MinEditDistance(s, t, cost, allow_transposition)\n",
    "    print(f\"Source: {s}\\nTarget: {t}\\n-----\")\n",
    "    print(f\"Distance: {d}\")\n",
    "    print(\"Alignment:\")\n",
    "    print(a_s)\n",
    "    print(ops)\n",
    "    print(a_t)\n",
    "    print(\"\\n\")\n",
    "\n",
    "\n",
    "\n",
    "show_case_MinEditDistance(\"abcd\", \"acbd\")   \n",
    "show_case_MinEditDistance(\"ca\", \"ac\")       \n",
    "show_case_MinEditDistance(\"abcdef\", \"abcfed\")  \n"
   ]
  },
  {
   "cell_type": "code",
   "execution_count": null,
   "metadata": {
    "id": "Hw8krGcBMl90"
   },
   "outputs": [],
   "source": []
  }
 ],
 "metadata": {
  "colab": {
   "provenance": []
  },
  "kernelspec": {
   "display_name": "Python 3",
   "language": "python",
   "name": "python3"
  },
  "language_info": {
   "codemirror_mode": {
    "name": "ipython",
    "version": 3
   },
   "file_extension": ".py",
   "mimetype": "text/x-python",
   "name": "python",
   "nbconvert_exporter": "python",
   "pygments_lexer": "ipython3",
   "version": "3.12.0"
  }
 },
 "nbformat": 4,
 "nbformat_minor": 0
}
