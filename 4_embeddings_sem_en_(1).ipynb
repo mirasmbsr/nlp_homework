{
  "cells": [
    {
      "cell_type": "markdown",
      "metadata": {
        "id": "ypt7ymI8X-rM"
      },
      "source": [
        "# Embeddings\n",
        "\n",
        "## Word2Vec\n",
        "\n",
        "Vector models that we considered before (TF -idf, Bow) are conditionally called *counting *. They are based on the fact that one way or another they “consider” the words and their neighbors, and based on this they build a vector for words.\n",
        "\n",
        "Another class of models, which is more commonly common to date, is called *predictive *(or *neural *) models. The idea of ​​these models is to use neural networks that \"predict\" (and not count) neighbors of words. One of the most famous such models is Word2VEC. The technology is based on a neural network that predicts the likelihood of finding a word in a given context. This tool was developed by a group of Google researchers in 2013, the project manager was Tomash Mikolov (now working on Facebook). Here are the two most important articles:\n",
        "\n",
        "* [Efficient Estimation of Word Representations in Vector Space](https://arxiv.org/pdf/1301.3781.pdf)\n",
        "* [Distributed Representations of Words and Phrases and their Compositionality](https://arxiv.org/abs/1310.4546)\n",
        "\n",
        "\n",
        "The vectors obtained in this way are called*distributed representations of the words*, or ** embeddings **.\n",
        "\n",
        "\n",
        "### How does it study?\n",
        "We set a vector for each word using a $ W $ matrix and a context vector using a $ w $ matrix. In fact, Word2VEC is a generalizing name for two architectures of SKIP-Gram and Continous Bag-OF-Words (CBOW).\n",
        "\n",
        "** CBOW ** predicts the current word based on the context surrounding it.\n",
        "\n",
        "** Skip-Gram **, on the contrary, uses the current word to predict the words surrounding him.\n",
        "\n",
        "### How does it work?\n",
        "Word2VEC accepts a large text case as input data and compares each word of the vector, giving out the coordinates of words at the output. First, he creates a dictionary, “studying” on the input text data, and then calculates the vector representation of words. The vector representation is based on contextual proximity: the words found in the text next to the same words (and therefore, according to the distribution hypothesis that have a similar meaning), in the vector representation will have close coordinates of the vectors-words. To calculate the proximity of words, the cosine distance between their vectors is used.\n",
        "\n",
        "\n",
        "With the help of distribution vector models, you can build semantic proportions (they are also analogy) and solve examples:\n",
        "\n",
        "* * King: Man = Queen: Woman *\n",
        "$\\Rightarrow$\n",
        "* * king - man + woman = queen *"
      ]
    },
    {
      "cell_type": "markdown",
      "metadata": {
        "id": "Z3sSyfHaX-rN"
      },
      "source": [
        "![w2v](https://cdn-images-1.medium.com/max/2600/1*sXNXYfAqfLUeiDXPCo130w.png)"
      ]
    },
    {
      "cell_type": "markdown",
      "metadata": {
        "id": "0oH_UDyFX-rO"
      },
      "source": [
        "### Problems\n",
        "It is impossible to establish the type of semantic relations between the words: synonyms, antonyms, etc. They will be equally close because they are usually used in similar contexts. Therefore, the words close in the vector space are called *semantic associates *. This means that they are semantically connected, but how exactly it is incomprehensible.\n",
        "\n",
        "\n",
        "### in rusvectics\n",
        "\n",
        "\n",
        "On the XX_MarkDown_Link_XX website, pretended to learn from various data for the Russian language are collected, and you can also look for the closest words to the given, calculate the semantic proximity of a few words and post examples using the “calculator of semantic proximity”.\n",
        "\n",
        "\n",
        "For other languages, you can also find the learned models - for example, the XX_MarkDown_Link_XX and XX_MarkDown_Link_XX models (about them a little further).\n",
        "\n",
        "### visualization\n",
        "And [вот тут](https://projector.tensorflow.org/) has good visualization for English."
      ]
    },
    {
      "cell_type": "markdown",
      "metadata": {
        "id": "yXNm8flVX-rP"
      },
      "source": [
        "## Gensim\n",
        "\n",
        "You can use the pre -study model of embedding or teach your own using the `Gensim` library. Here is [ее документация](https://radimrehurek.com/gensim/models/word2vec.html).\n",
        "\n",
        "### How to use a finished model\n",
        "\n",
        "Word2Vec models come in different formats:\n",
        "\n",
        "* .Vec.gz - regular file\n",
        "* .bin.gz - binary\n",
        "\n",
        "They are loaded with the same class `keyedVectors', only the` binary` parameter is changing in the `Load_Word2VEC_FORMAT` function.\n",
        "\n",
        "If the embeddings are trained ** not ** using Word2VEC, then to download the `Load` function. Those. To load the pre -learned Embeddings * Glove, FastText, BPE * and any others are needed.\n",
        "\n",
        "Download with rusvectōrēs model for the Russian language, trained on the NKRA of the 2015 model."
      ]
    },
    {
      "cell_type": "code",
      "execution_count": 13,
      "metadata": {
        "colab": {
          "base_uri": "https://localhost:8080/"
        },
        "collapsed": true,
        "id": "GB_zmkGeKckW",
        "jupyter": {
          "outputs_hidden": true
        },
        "outputId": "6268ea01-e3ce-461b-cc02-0d5002a2e127"
      },
      "outputs": [
        {
          "output_type": "stream",
          "name": "stdout",
          "text": [
            "Requirement already satisfied: pymorphy2 in /usr/local/lib/python3.12/dist-packages (0.9.1)\n",
            "Requirement already satisfied: dawg-python>=0.7.1 in /usr/local/lib/python3.12/dist-packages (from pymorphy2) (0.7.2)\n",
            "Requirement already satisfied: pymorphy2-dicts-ru<3.0,>=2.4 in /usr/local/lib/python3.12/dist-packages (from pymorphy2) (2.4.417127.4579844)\n",
            "Requirement already satisfied: docopt>=0.6 in /usr/local/lib/python3.12/dist-packages (from pymorphy2) (0.6.2)\n",
            "fatal: destination path 'fastText' already exists and is not an empty directory.\n",
            "Processing ./fastText\n",
            "  Installing build dependencies ... \u001b[?25l\u001b[?25hcanceled\u001b[31mERROR: Operation cancelled by user\u001b[0m\u001b[31m\n",
            "\u001b[0m"
          ]
        }
      ],
      "source": [
        "!pip install pymorphy2\n",
        "! git clone https://github.com/facebookresearch/fastText.git\n",
        "! pip3 install fastText/."
      ]
    },
    {
      "cell_type": "code",
      "execution_count": 14,
      "metadata": {
        "colab": {
          "base_uri": "https://localhost:8080/"
        },
        "id": "q9_ujGhANMS7",
        "outputId": "90fbfed2-e3e7-43fc-db8f-336094553783",
        "scrolled": true
      },
      "outputs": [
        {
          "output_type": "stream",
          "name": "stdout",
          "text": [
            "--2025-10-12 17:21:53--  https://rusvectores.org/static/models/rusvectores4/unigrams/ruwikiruscorpora-nobigrams_upos_skipgram_300_5_2018.vec.gz\n",
            "Resolving rusvectores.org (rusvectores.org)... 129.240.189.200, 2001:700:112::200\n",
            "Connecting to rusvectores.org (rusvectores.org)|129.240.189.200|:443... connected.\n",
            "HTTP request sent, awaiting response... 200 OK\n",
            "Length: 404014768 (385M) [application/x-gzip]\n",
            "Saving to: ‘ruwikiruscorpora-nobigrams_upos_skipgram_300_5_2018.vec.gz.1’\n",
            "\n",
            "ruwikiruscorpora-no 100%[===================>] 385.30M  18.6MB/s    in 21s     \n",
            "\n",
            "2025-10-12 17:22:15 (18.2 MB/s) - ‘ruwikiruscorpora-nobigrams_upos_skipgram_300_5_2018.vec.gz.1’ saved [404014768/404014768]\n",
            "\n",
            "--2025-10-12 17:22:15--  https://raw.githubusercontent.com/ancatmara/data-science-nlp/master/data/w2v/train/unlabeledTrainData.tsv\n",
            "Resolving raw.githubusercontent.com (raw.githubusercontent.com)... 185.199.108.133, 185.199.109.133, 185.199.110.133, ...\n",
            "Connecting to raw.githubusercontent.com (raw.githubusercontent.com)|185.199.108.133|:443... connected.\n",
            "HTTP request sent, awaiting response... 200 OK\n",
            "Length: 67281491 (64M) [text/plain]\n",
            "Saving to: ‘unlabeledTrainData.tsv.1’\n",
            "\n",
            "unlabeledTrainData. 100%[===================>]  64.16M   103MB/s    in 0.6s    \n",
            "\n",
            "2025-10-12 17:22:16 (103 MB/s) - ‘unlabeledTrainData.tsv.1’ saved [67281491/67281491]\n",
            "\n",
            "--2025-10-12 17:22:16--  https://raw.githubusercontent.com/ancatmara/data-science-nlp/master/data/w2v/train/alice.txt\n",
            "Resolving raw.githubusercontent.com (raw.githubusercontent.com)... 185.199.108.133, 185.199.110.133, 185.199.109.133, ...\n",
            "Connecting to raw.githubusercontent.com (raw.githubusercontent.com)|185.199.108.133|:443... connected.\n",
            "HTTP request sent, awaiting response... 200 OK\n",
            "Length: 167631 (164K) [text/plain]\n",
            "Saving to: ‘alice.txt.1’\n",
            "\n",
            "alice.txt.1         100%[===================>] 163.70K  --.-KB/s    in 0.01s   \n",
            "\n",
            "2025-10-12 17:22:16 (10.8 MB/s) - ‘alice.txt.1’ saved [167631/167631]\n",
            "\n",
            "--2025-10-12 17:22:16--  https://raw.githubusercontent.com/ancatmara/data-science-nlp/master/data/w2v/evaluation/ru_analogy_tagged.txt\n",
            "Resolving raw.githubusercontent.com (raw.githubusercontent.com)... 185.199.111.133, 185.199.108.133, 185.199.110.133, ...\n",
            "Connecting to raw.githubusercontent.com (raw.githubusercontent.com)|185.199.111.133|:443... connected.\n",
            "HTTP request sent, awaiting response... 200 OK\n",
            "Length: 871776 (851K) [text/plain]\n",
            "Saving to: ‘ru_analogy_tagged.txt.1’\n",
            "\n",
            "ru_analogy_tagged.t 100%[===================>] 851.34K  --.-KB/s    in 0.03s   \n",
            "\n",
            "2025-10-12 17:22:17 (29.6 MB/s) - ‘ru_analogy_tagged.txt.1’ saved [871776/871776]\n",
            "\n",
            "--2025-10-12 17:22:17--  https://www.dropbox.com/s/fnpq3z4bcnoktiv/positive.csv?dl=0\n",
            "Resolving www.dropbox.com (www.dropbox.com)... 162.125.1.18, 2620:100:601c:18::a27d:612\n",
            "Connecting to www.dropbox.com (www.dropbox.com)|162.125.1.18|:443... connected.\n",
            "HTTP request sent, awaiting response... 302 Found\n",
            "Location: https://www.dropbox.com/scl/fi/6mg7rw3wltux83q2o4ah4/positive.csv?rlkey=cvruhzofza9kkfxwzyp2vskfd&dl=0 [following]\n",
            "--2025-10-12 17:22:17--  https://www.dropbox.com/scl/fi/6mg7rw3wltux83q2o4ah4/positive.csv?rlkey=cvruhzofza9kkfxwzyp2vskfd&dl=0\n",
            "Reusing existing connection to www.dropbox.com:443.\n",
            "HTTP request sent, awaiting response... 302 Found\n",
            "Location: https://uc05484a6de52aa664bf7c9456f4.dl.dropboxusercontent.com/cd/0/inline/CzFdX5GYV_x0_VZdV7Q8YtmDJC72s1owuaA1g9EJBZ3mwn_xRc7D-aCSvnA-XGBWQi6YLCfJBHTqrDYF4p6LvDu8NWt1nBJFKf5SMaiE9J-7t9ZY2te_G15dFqJsWYhU95M/file# [following]\n",
            "--2025-10-12 17:22:17--  https://uc05484a6de52aa664bf7c9456f4.dl.dropboxusercontent.com/cd/0/inline/CzFdX5GYV_x0_VZdV7Q8YtmDJC72s1owuaA1g9EJBZ3mwn_xRc7D-aCSvnA-XGBWQi6YLCfJBHTqrDYF4p6LvDu8NWt1nBJFKf5SMaiE9J-7t9ZY2te_G15dFqJsWYhU95M/file\n",
            "Resolving uc05484a6de52aa664bf7c9456f4.dl.dropboxusercontent.com (uc05484a6de52aa664bf7c9456f4.dl.dropboxusercontent.com)... 162.125.4.15, 2620:100:601c:15::a27d:60f\n",
            "Connecting to uc05484a6de52aa664bf7c9456f4.dl.dropboxusercontent.com (uc05484a6de52aa664bf7c9456f4.dl.dropboxusercontent.com)|162.125.4.15|:443... connected.\n",
            "HTTP request sent, awaiting response... 200 OK\n",
            "Length: 26233379 (25M) [text/plain]\n",
            "Saving to: ‘positive.csv’\n",
            "\n",
            "positive.csv        100%[===================>]  25.02M  29.2MB/s    in 0.9s    \n",
            "\n",
            "2025-10-12 17:22:19 (29.2 MB/s) - ‘positive.csv’ saved [26233379/26233379]\n",
            "\n",
            "--2025-10-12 17:22:19--  https://www.dropbox.com/s/r6u59ljhhjdg6j0/negative.csv?dl=0\n",
            "Resolving www.dropbox.com (www.dropbox.com)... 162.125.1.18, 2620:100:601c:18::a27d:612\n",
            "Connecting to www.dropbox.com (www.dropbox.com)|162.125.1.18|:443... connected.\n",
            "HTTP request sent, awaiting response... 302 Found\n",
            "Location: https://www.dropbox.com/scl/fi/wui0xz78kpna56690uej4/negative.csv?rlkey=309xeou9u3rtbejw9stb13wfr&dl=0 [following]\n",
            "--2025-10-12 17:22:19--  https://www.dropbox.com/scl/fi/wui0xz78kpna56690uej4/negative.csv?rlkey=309xeou9u3rtbejw9stb13wfr&dl=0\n",
            "Reusing existing connection to www.dropbox.com:443.\n",
            "HTTP request sent, awaiting response... 302 Found\n",
            "Location: https://uc12a99056d279c0b47983dc14b5.dl.dropboxusercontent.com/cd/0/inline/CzEhoLP7iNdTOijHUIFP6kuCk1Vs_OuJwfwIYRwUzWqI03w0pAe9YjJ7y9nNnSDhckUwqpPva1rYZYwz0Pv0dyopI3_hdLzojpmS-tRAP7lkYKWZT18v18uo8fQ78WryMjk/file# [following]\n",
            "--2025-10-12 17:22:19--  https://uc12a99056d279c0b47983dc14b5.dl.dropboxusercontent.com/cd/0/inline/CzEhoLP7iNdTOijHUIFP6kuCk1Vs_OuJwfwIYRwUzWqI03w0pAe9YjJ7y9nNnSDhckUwqpPva1rYZYwz0Pv0dyopI3_hdLzojpmS-tRAP7lkYKWZT18v18uo8fQ78WryMjk/file\n",
            "Resolving uc12a99056d279c0b47983dc14b5.dl.dropboxusercontent.com (uc12a99056d279c0b47983dc14b5.dl.dropboxusercontent.com)... 162.125.4.15, 2620:100:601c:15::a27d:60f\n",
            "Connecting to uc12a99056d279c0b47983dc14b5.dl.dropboxusercontent.com (uc12a99056d279c0b47983dc14b5.dl.dropboxusercontent.com)|162.125.4.15|:443... connected.\n",
            "HTTP request sent, awaiting response... 200 OK\n",
            "Length: 24450101 (23M) [text/plain]\n",
            "Saving to: ‘negative.csv’\n",
            "\n",
            "negative.csv        100%[===================>]  23.32M  27.9MB/s    in 0.8s    \n",
            "\n",
            "2025-10-12 17:22:21 (27.9 MB/s) - ‘negative.csv’ saved [24450101/24450101]\n",
            "\n"
          ]
        }
      ],
      "source": [
        "! wget https://rusvectores.org/static/models/rusvectores4/unigrams/ruwikiruscorpora-nobigrams_upos_skipgram_300_5_2018.vec.gz\n",
        "! wget https://raw.githubusercontent.com/ancatmara/data-science-nlp/master/data/w2v/train/unlabeledTrainData.tsv\n",
        "! wget https://raw.githubusercontent.com/ancatmara/data-science-nlp/master/data/w2v/train/alice.txt\n",
        "! wget https://raw.githubusercontent.com/ancatmara/data-science-nlp/master/data/w2v/evaluation/ru_analogy_tagged.txt\n",
        "! wget -O positive.csv https://www.dropbox.com/s/fnpq3z4bcnoktiv/positive.csv?dl=0\n",
        "! wget -O negative.csv https://www.dropbox.com/s/r6u59ljhhjdg6j0/negative.csv?dl=0"
      ]
    },
    {
      "cell_type": "code",
      "execution_count": 15,
      "metadata": {
        "colab": {
          "base_uri": "https://localhost:8080/"
        },
        "id": "otrc5BHPW2v6",
        "outputId": "ac9f4b8d-b169-4b3f-da17-39ff4746739a"
      },
      "outputs": [
        {
          "output_type": "stream",
          "name": "stdout",
          "text": [
            "Requirement already satisfied: pymorphy3 in /usr/local/lib/python3.12/dist-packages (2.0.6)\n",
            "Requirement already satisfied: dawg2-python>=0.8.0 in /usr/local/lib/python3.12/dist-packages (from pymorphy3) (0.9.0)\n",
            "Requirement already satisfied: pymorphy3-dicts-ru in /usr/local/lib/python3.12/dist-packages (from pymorphy3) (2.4.417150.4580142)\n",
            "Requirement already satisfied: setuptools>=68.2.2 in /usr/local/lib/python3.12/dist-packages (from pymorphy3) (75.2.0)\n"
          ]
        }
      ],
      "source": [
        "!pip install pymorphy3\n",
        "\n",
        "from pymorphy3 import MorphAnalyzer"
      ]
    },
    {
      "cell_type": "code",
      "source": [
        "!pip install gensim nltk pandas beautifulsoup4 pymorphy2 tqdm scikit-learn bokeh fasttext"
      ],
      "metadata": {
        "colab": {
          "base_uri": "https://localhost:8080/"
        },
        "id": "0lWCFj2mavzm",
        "outputId": "405a0b20-7b9e-465d-f275-fb043a169e30"
      },
      "execution_count": 16,
      "outputs": [
        {
          "output_type": "stream",
          "name": "stdout",
          "text": [
            "Requirement already satisfied: gensim in /usr/local/lib/python3.12/dist-packages (4.3.3)\n",
            "Requirement already satisfied: nltk in /usr/local/lib/python3.12/dist-packages (3.9.1)\n",
            "Requirement already satisfied: pandas in /usr/local/lib/python3.12/dist-packages (2.2.2)\n",
            "Requirement already satisfied: beautifulsoup4 in /usr/local/lib/python3.12/dist-packages (4.13.5)\n",
            "Requirement already satisfied: pymorphy2 in /usr/local/lib/python3.12/dist-packages (0.9.1)\n",
            "Requirement already satisfied: tqdm in /usr/local/lib/python3.12/dist-packages (4.67.1)\n",
            "Requirement already satisfied: scikit-learn in /usr/local/lib/python3.12/dist-packages (1.6.1)\n",
            "Requirement already satisfied: bokeh in /usr/local/lib/python3.12/dist-packages (3.7.3)\n",
            "Requirement already satisfied: fasttext in /usr/local/lib/python3.12/dist-packages (0.9.2)\n",
            "Requirement already satisfied: numpy<2.0,>=1.18.5 in /usr/local/lib/python3.12/dist-packages (from gensim) (1.26.4)\n",
            "Requirement already satisfied: scipy<1.14.0,>=1.7.0 in /usr/local/lib/python3.12/dist-packages (from gensim) (1.13.1)\n",
            "Requirement already satisfied: smart-open>=1.8.1 in /usr/local/lib/python3.12/dist-packages (from gensim) (7.3.1)\n",
            "Requirement already satisfied: click in /usr/local/lib/python3.12/dist-packages (from nltk) (8.3.0)\n",
            "Requirement already satisfied: joblib in /usr/local/lib/python3.12/dist-packages (from nltk) (1.5.2)\n",
            "Requirement already satisfied: regex>=2021.8.3 in /usr/local/lib/python3.12/dist-packages (from nltk) (2024.11.6)\n",
            "Requirement already satisfied: python-dateutil>=2.8.2 in /usr/local/lib/python3.12/dist-packages (from pandas) (2.9.0.post0)\n",
            "Requirement already satisfied: pytz>=2020.1 in /usr/local/lib/python3.12/dist-packages (from pandas) (2025.2)\n",
            "Requirement already satisfied: tzdata>=2022.7 in /usr/local/lib/python3.12/dist-packages (from pandas) (2025.2)\n",
            "Requirement already satisfied: soupsieve>1.2 in /usr/local/lib/python3.12/dist-packages (from beautifulsoup4) (2.8)\n",
            "Requirement already satisfied: typing-extensions>=4.0.0 in /usr/local/lib/python3.12/dist-packages (from beautifulsoup4) (4.15.0)\n",
            "Requirement already satisfied: dawg-python>=0.7.1 in /usr/local/lib/python3.12/dist-packages (from pymorphy2) (0.7.2)\n",
            "Requirement already satisfied: pymorphy2-dicts-ru<3.0,>=2.4 in /usr/local/lib/python3.12/dist-packages (from pymorphy2) (2.4.417127.4579844)\n",
            "Requirement already satisfied: docopt>=0.6 in /usr/local/lib/python3.12/dist-packages (from pymorphy2) (0.6.2)\n",
            "Requirement already satisfied: threadpoolctl>=3.1.0 in /usr/local/lib/python3.12/dist-packages (from scikit-learn) (3.6.0)\n",
            "Requirement already satisfied: Jinja2>=2.9 in /usr/local/lib/python3.12/dist-packages (from bokeh) (3.1.6)\n",
            "Requirement already satisfied: contourpy>=1.2 in /usr/local/lib/python3.12/dist-packages (from bokeh) (1.3.3)\n",
            "Requirement already satisfied: narwhals>=1.13 in /usr/local/lib/python3.12/dist-packages (from bokeh) (2.7.0)\n",
            "Requirement already satisfied: packaging>=16.8 in /usr/local/lib/python3.12/dist-packages (from bokeh) (25.0)\n",
            "Requirement already satisfied: pillow>=7.1.0 in /usr/local/lib/python3.12/dist-packages (from bokeh) (11.3.0)\n",
            "Requirement already satisfied: PyYAML>=3.10 in /usr/local/lib/python3.12/dist-packages (from bokeh) (6.0.3)\n",
            "Requirement already satisfied: tornado>=6.2 in /usr/local/lib/python3.12/dist-packages (from bokeh) (6.4.2)\n",
            "Requirement already satisfied: xyzservices>=2021.09.1 in /usr/local/lib/python3.12/dist-packages (from bokeh) (2025.4.0)\n",
            "Requirement already satisfied: pybind11>=2.2 in /usr/local/lib/python3.12/dist-packages (from fasttext) (3.0.1)\n",
            "Requirement already satisfied: setuptools>=0.7.0 in /usr/local/lib/python3.12/dist-packages (from fasttext) (75.2.0)\n",
            "Requirement already satisfied: MarkupSafe>=2.0 in /usr/local/lib/python3.12/dist-packages (from Jinja2>=2.9->bokeh) (3.0.3)\n",
            "Requirement already satisfied: six>=1.5 in /usr/local/lib/python3.12/dist-packages (from python-dateutil>=2.8.2->pandas) (1.17.0)\n",
            "Requirement already satisfied: wrapt in /usr/local/lib/python3.12/dist-packages (from smart-open>=1.8.1->gensim) (1.17.3)\n"
          ]
        }
      ]
    },
    {
      "cell_type": "code",
      "execution_count": 17,
      "metadata": {
        "colab": {
          "base_uri": "https://localhost:8080/"
        },
        "id": "sTLnNKaNX-rP",
        "outputId": "65cdd9c9-a7cf-4c17-f5ba-0aa5abc13861"
      },
      "outputs": [
        {
          "output_type": "stream",
          "name": "stderr",
          "text": [
            "[nltk_data] Downloading package punkt to /root/nltk_data...\n",
            "[nltk_data]   Package punkt is already up-to-date!\n"
          ]
        }
      ],
      "source": [
        "import re\n",
        "import gensim\n",
        "import logging\n",
        "import nltk.data\n",
        "import pandas as pd\n",
        "import urllib.request\n",
        "from bs4 import BeautifulSoup\n",
        "from nltk.corpus import stopwords\n",
        "from gensim.models import word2vec\n",
        "from nltk.tokenize import sent_tokenize, RegexpTokenizer\n",
        "from pymorphy2 import MorphAnalyzer\n",
        "from gensim.test.utils import datapath\n",
        "nltk.download('punkt')\n",
        "\n",
        "from nltk import FreqDist\n",
        "from tqdm import tqdm_notebook as tqdm\n",
        "from sklearn.manifold import TSNE\n",
        "\n",
        "from bokeh.models import ColumnDataSource, LabelSet\n",
        "from bokeh.plotting import figure, show, output_file\n",
        "from bokeh.io import output_notebook\n",
        "\n",
        "from sklearn.decomposition import TruncatedSVD\n",
        "import fasttext\n",
        "\n",
        "from functools import lru_cache\n",
        "from multiprocessing import Pool\n",
        "import numpy as np\n",
        "from sklearn.model_selection import train_test_split\n",
        "from tqdm import tqdm_notebook as tqdm\n",
        "import re"
      ]
    },
    {
      "cell_type": "code",
      "execution_count": 18,
      "metadata": {
        "id": "mkuCawyFX-rW"
      },
      "outputs": [],
      "source": [
        "model_path = 'ruwikiruscorpora-nobigrams_upos_skipgram_300_5_2018.vec.gz'\n",
        "\n",
        "model_ru = gensim.models.KeyedVectors.load_word2vec_format(model_path, binary=False)"
      ]
    },
    {
      "cell_type": "markdown",
      "metadata": {
        "id": "ZvvO1ew5p3PP"
      },
      "source": [
        "Take a few words for example:"
      ]
    },
    {
      "cell_type": "code",
      "execution_count": 19,
      "metadata": {
        "id": "H4D0hMgkX-rY"
      },
      "outputs": [],
      "source": [
        "words = ['день_NOUN', 'ночь_NOUN', 'человек_NOUN', 'семантика_NOUN', 'биткоин_NOUN']"
      ]
    },
    {
      "cell_type": "markdown",
      "metadata": {
        "id": "jbTShU9aX-ra"
      },
      "source": [
        "Frequency tags are needed, since it is the specifics of the downloaded model - it was trained in words announced by their parts of speech (and lemmetized). ** NB! ** The names of models on `rusvectores` indicate which tigset they use (Mystem, Upos, etc.)\n",
        "\n",
        "Let us ask the model 10 closest neighbors for each word and the coefficient of cosine proximity to everyone:"
      ]
    },
    {
      "cell_type": "code",
      "execution_count": 20,
      "metadata": {
        "colab": {
          "base_uri": "https://localhost:8080/"
        },
        "id": "9Uer5sHyX-ra",
        "outputId": "e8896692-c95a-4f08-f253-2e3a6629d42b"
      },
      "outputs": [
        {
          "output_type": "stream",
          "name": "stdout",
          "text": [
            "день_NOUN\n",
            "[ 0.117177  0.008562 -0.054731  0.03821   0.006885  0.041716  0.063708\n",
            "  0.070478  0.032087  0.050791]\n",
            "неделя_NOUN :  0.7242119312286377\n",
            "месяц_NOUN :  0.7178640365600586\n",
            "утро_NOUN :  0.6738513708114624\n",
            "вечер_NOUN :  0.6443344950675964\n",
            "воскресенье_NOUN :  0.6362559795379639\n",
            "час_NOUN :  0.632983386516571\n",
            "накануне_ADV :  0.6304810047149658\n",
            "днями_NOUN :  0.6276212930679321\n",
            "днемя_NOUN :  0.621060848236084\n",
            "ночь_NOUN :  0.6077756285667419\n",
            "\n",
            "\n",
            "ночь_NOUN\n",
            "[ 0.070529 -0.068594  0.029781  0.035559 -0.01488   0.072418 -0.01183\n",
            "  0.051797 -0.024269  0.034406]\n",
            "ночь_PROPN :  0.7884491682052612\n",
            "вечер_NOUN :  0.7778281569480896\n",
            "утро_NOUN :  0.7638111710548401\n",
            "полночь_NOUN :  0.7437741756439209\n",
            "рассвет_NOUN :  0.6889956593513489\n",
            "полдень_NOUN :  0.6811894178390503\n",
            "утро_PROPN :  0.6788180470466614\n",
            "сумерки_NOUN :  0.6461666822433472\n",
            "напроать_NOUN :  0.6451945900917053\n",
            "напролет_VERB :  0.6393611431121826\n",
            "\n",
            "\n",
            "человек_NOUN\n",
            "[ 0.022094 -0.077399  0.038363 -0.051602  0.000347  0.073115 -0.068763\n",
            " -0.037081 -0.057053  0.103592]\n",
            "человеколо_NOUN :  0.6339133381843567\n",
            "людямя_NOUN :  0.5752431154251099\n",
            "человек_PROPN :  0.562440037727356\n",
            "людей_NOUN :  0.5577748417854309\n",
            "плотностьнаселение_PROPN :  0.5463516116142273\n",
            "человекомя_NOUN :  0.541978120803833\n",
            "микрочел/кв.етр_NOUN :  0.5279955267906189\n",
            "человека_NOUN :  0.5220513939857483\n",
            ",человек_ADJ :  0.5200932621955872\n",
            "душа_NOUN :  0.5174600481987\n",
            "\n",
            "\n",
            "семантика_NOUN\n",
            "[ 0.145827  0.079547 -0.015398  0.044673  0.01098   0.018703 -0.017285\n",
            " -0.003601 -0.012524 -0.03982 ]\n",
            "семантический_ADJ :  0.7788299918174744\n",
            "синтаксический_ADJ :  0.7409731149673462\n",
            "-семантический_ADJ :  0.7346712946891785\n",
            "метаязык_NOUN :  0.7314320206642151\n",
            "синтаксис_NOUN :  0.7253472208976746\n",
            "семантико_ADJ :  0.723125159740448\n",
            "семантика_PROPN :  0.7222791314125061\n",
            "парадигматика_NOUN :  0.7084903717041016\n",
            "синтактика_NOUN :  0.7036083340644836\n",
            "интенсиональный_ADJ :  0.7011395692825317\n",
            "\n",
            "\n",
            "Увы, слова \"биткоин_NOUN\" нет в модели!\n"
          ]
        }
      ],
      "source": [
        "for word in words:\n",
        "    # есть ли слово в модели?\n",
        "    if word in model_ru:\n",
        "        print(word)\n",
        "        # смотрим на вектор слова (его размерность 300, смотрим на первые 10 чисел)\n",
        "        print(model_ru[word][:10])\n",
        "        # выдаем 10 ближайших соседей слова:\n",
        "        for word, sim in model_ru.most_similar(positive=[word], topn=10):\n",
        "            # слово + коэффициент косинусной близости\n",
        "            print(word, ': ', sim)\n",
        "        print('\\n')\n",
        "    else:\n",
        "        # Увы!\n",
        "        print('Увы, слова \"%s\" нет в модели!' % word)"
      ]
    },
    {
      "cell_type": "markdown",
      "metadata": {
        "id": "1GqDmAcJX-rc"
      },
      "source": [
        "We find the cosine closeness of a pair of words:"
      ]
    },
    {
      "cell_type": "code",
      "execution_count": 21,
      "metadata": {
        "colab": {
          "base_uri": "https://localhost:8080/"
        },
        "id": "MDFjOSJjX-rd",
        "outputId": "99ca4cb0-f5aa-4326-bc06-052930b098f4"
      },
      "outputs": [
        {
          "output_type": "stream",
          "name": "stdout",
          "text": [
            "0.7847429\n"
          ]
        }
      ],
      "source": [
        "print(model_ru.similarity('nvidia_PROPN', 'видеокарта_NOUN'))"
      ]
    },
    {
      "cell_type": "markdown",
      "metadata": {
        "id": "B0w4pQooX-rf"
      },
      "source": [
        "What happens if you subtract Italy from pizza and add Siberia?\n",
        "\n",
        "* Positive - vectors that we add\n",
        "* Negative - vectors that we subtract"
      ]
    },
    {
      "cell_type": "code",
      "execution_count": 22,
      "metadata": {
        "colab": {
          "base_uri": "https://localhost:8080/"
        },
        "id": "N0L5_TCQX-rf",
        "outputId": "398e527f-315f-4d69-a5c6-17f47cbdaebc"
      },
      "outputs": [
        {
          "output_type": "stream",
          "name": "stdout",
          "text": [
            "татарстан_NOUN\n"
          ]
        }
      ],
      "source": [
        "print(model_ru.most_similar(positive=['татарин_NOUN', 'казахстан_NOUN'], negative=['казах_NOUN'])[0][0])"
      ]
    },
    {
      "cell_type": "code",
      "execution_count": 23,
      "metadata": {
        "colab": {
          "base_uri": "https://localhost:8080/",
          "height": 36
        },
        "id": "DrN2Jc31X-rh",
        "outputId": "4b66146b-a84d-483a-e939-4f9ec2f350b9"
      },
      "outputs": [
        {
          "output_type": "execute_result",
          "data": {
            "text/plain": [
              "'манты_NOUN'"
            ],
            "application/vnd.google.colaboratory.intrinsic+json": {
              "type": "string"
            }
          },
          "metadata": {},
          "execution_count": 23
        }
      ],
      "source": [
        "model_ru.doesnt_match('бешбармак_NOUN плов_NOUN манты_NOUN'.split())"
      ]
    },
    {
      "cell_type": "markdown",
      "metadata": {
        "id": "z9XsGSE_HuFJ"
      },
      "source": [
        "** Warm exercises **\n",
        "\n",
        "Find an example of a multi-valued word for which in the top 10 (method `most_similar`) words similar to it include words related to different meanings:"
      ]
    },
    {
      "cell_type": "code",
      "execution_count": 24,
      "metadata": {
        "colab": {
          "base_uri": "https://localhost:8080/"
        },
        "id": "MWXGH79-H1ED",
        "outputId": "dc9ea9d9-8328-4d51-c8ca-4532d6be6a29"
      },
      "outputs": [
        {
          "output_type": "execute_result",
          "data": {
            "text/plain": [
              "[('ключ_ADJ', 0.6990529298782349),\n",
              " ('ключом_NOUN', 0.6460300087928772),\n",
              " ('ключ_PROPN', 0.6185873746871948),\n",
              " ('расшифровывание_NOUN', 0.5978684425354004),\n",
              " ('ключ_VERB', 0.5960569381713867),\n",
              " ('криптосистем_NOUN', 0.5936962962150574),\n",
              " ('отмычка_NOUN', 0.5862348675727844),\n",
              " ('отмычкий_NOUN', 0.577734649181366),\n",
              " ('зашифровывать_VERB', 0.5704915523529053),\n",
              " ('диффи-хеллман_PROPN', 0.5641186237335205)]"
            ]
          },
          "metadata": {},
          "execution_count": 24
        }
      ],
      "source": [
        "model_ru.most_similar(positive=['ключ_NOUN'], topn=10)"
      ]
    },
    {
      "cell_type": "code",
      "execution_count": 25,
      "metadata": {
        "colab": {
          "base_uri": "https://localhost:8080/"
        },
        "id": "bMwT2h7cW2v9",
        "outputId": "d8351e95-15bd-4403-a027-e96eb17461c6"
      },
      "outputs": [
        {
          "output_type": "execute_result",
          "data": {
            "text/plain": [
              "[('дверца_NOUN', 0.7919579148292542),\n",
              " ('дверка_NOUN', 0.7831783890724182),\n",
              " ('отвориться_VERB', 0.7785482406616211),\n",
              " ('калитка_NOUN', 0.7784631252288818),\n",
              " ('дверной_ADJ', 0.7726611495018005),\n",
              " ('засов_NOUN', 0.7565937042236328),\n",
              " ('настежь_ADV', 0.7547726035118103),\n",
              " ('приотвориться_VERB', 0.7538771033287048),\n",
              " ('прихожая_NOUN', 0.750787615776062),\n",
              " ('отворить_VERB', 0.7491068243980408)]"
            ]
          },
          "metadata": {},
          "execution_count": 25
        }
      ],
      "source": [
        "model_ru.most_similar(positive=['дверь_NOUN'], topn=10)"
      ]
    },
    {
      "cell_type": "markdown",
      "metadata": {
        "id": "adiAA7AqIY4g"
      },
      "source": [
        "By analogy with Italy - pizza, Siberia - cracker, come up with a similar bunch of words for verification:"
      ]
    },
    {
      "cell_type": "code",
      "execution_count": 26,
      "metadata": {
        "colab": {
          "base_uri": "https://localhost:8080/"
        },
        "id": "u5bzD-ZXKOSY",
        "outputId": "eb694c1c-43a3-4708-8da4-87a4c4ba443d"
      },
      "outputs": [
        {
          "output_type": "execute_result",
          "data": {
            "text/plain": [
              "[('польша_NOUN', 0.3561699390411377),\n",
              " ('франция_NOUN', 0.3416089713573456),\n",
              " ('дплс_PROPN', 0.2917874753475189),\n",
              " ('албания_NOUN', 0.2896476089954376),\n",
              " ('норвегия_NOUN', 0.27540141344070435),\n",
              " ('португалия_NOUN', 0.26797914505004883),\n",
              " ('канада_NOUN', 0.2634488642215729),\n",
              " ('каталонии_NOUN', 0.2630119025707245),\n",
              " ('италию_NOUN', 0.2511085569858551),\n",
              " ('греция_NOUN', 0.24830304086208344)]"
            ]
          },
          "metadata": {},
          "execution_count": 26
        }
      ],
      "source": [
        "model_ru.most_similar(positive=['италия_NOUN'], negative=['пицца_NOUN'])"
      ]
    },
    {
      "cell_type": "code",
      "execution_count": 27,
      "metadata": {
        "colab": {
          "base_uri": "https://localhost:8080/"
        },
        "id": "DWjK1JFfW2v-",
        "outputId": "c62b7dbd-83e6-4cd4-c515-b4f2d867a451"
      },
      "outputs": [
        {
          "output_type": "execute_result",
          "data": {
            "text/plain": [
              "[('королева_NOUN', 0.7274051308631897),\n",
              " ('королева_ADV', 0.6973327994346619),\n",
              " ('королева_ADJ', 0.6478138566017151),\n",
              " ('король_PROPN', 0.6415081024169922),\n",
              " ('короля_NOUN', 0.6195558905601501),\n",
              " ('королева-консорт_NOUN', 0.6013587117195129),\n",
              " ('людовик_PROPN', 0.5912467837333679),\n",
              " ('-консорт_NOUN', 0.5904233455657959),\n",
              " ('королевство_NOUN', 0.5836767554283142),\n",
              " ('монарх_NOUN', 0.5797032713890076)]"
            ]
          },
          "metadata": {},
          "execution_count": 27
        }
      ],
      "source": [
        "model_ru.most_similar(positive=['король_NOUN', 'женщина_NOUN'], negative=['мужчина_NOUN'])"
      ]
    },
    {
      "cell_type": "markdown",
      "metadata": {
        "id": "dpIDtQIzKO1M"
      },
      "source": [
        "Give an example of three words W1, W2, W3, such that W1 and W2 are synonyms, W1 and W3 are antonyms, but at the same time, Similarity (W1, W2) <Similarity (W1, W3)."
      ]
    },
    {
      "cell_type": "code",
      "execution_count": 28,
      "metadata": {
        "colab": {
          "base_uri": "https://localhost:8080/"
        },
        "id": "YLHYb34gKXgz",
        "outputId": "94cc556a-d87b-48cb-dd87-d1264215b04c",
        "scrolled": true
      },
      "outputs": [
        {
          "output_type": "execute_result",
          "data": {
            "text/plain": [
              "[('идти_NOUN', 0.7714468240737915),\n",
              " ('пойти_VERB', 0.7684582471847534),\n",
              " ('идти_NUM', 0.6786747574806213),\n",
              " ('ихать_VERB', 0.658195972442627),\n",
              " ('идти_ADJ', 0.6211366653442383),\n",
              " ('повехать_VERB', 0.6183276772499084),\n",
              " ('брести_VERB', 0.612551748752594),\n",
              " ('подвигаться_VERB', 0.6117924451828003),\n",
              " ('плетиваться_VERB', 0.602618932723999),\n",
              " ('ида_VERB', 0.6008363366127014)]"
            ]
          },
          "metadata": {},
          "execution_count": 28
        }
      ],
      "source": [
        "model_ru.most_similar(positive=['идти_VERB'], topn=10)"
      ]
    },
    {
      "cell_type": "markdown",
      "metadata": {
        "id": "0rfihwVJKwzC"
      },
      "source": [
        "### Exercise\n",
        "\n",
        "Write a function that accepts the proposal to the input, and replaces the random noun in it with Associat - the closest word to it from the Word2VEC model.\n",
        "\n",
        "NB: For this you will need a morphological analyzer. I advise you to use Pymorphy (we briefly talked about it at the last seminar)."
      ]
    },
    {
      "cell_type": "markdown",
      "metadata": {
        "id": "nCMPmoRrM3ES"
      },
      "source": [
        "How to use Pymorphy:"
      ]
    },
    {
      "cell_type": "code",
      "source": [
        "!pip install gensim pymorphy2 nltk\n"
      ],
      "metadata": {
        "colab": {
          "base_uri": "https://localhost:8080/"
        },
        "id": "vcD3wwsIeJYf",
        "outputId": "2b315363-b499-4521-ebed-149cd1df3ad1"
      },
      "execution_count": 30,
      "outputs": [
        {
          "output_type": "stream",
          "name": "stdout",
          "text": [
            "Requirement already satisfied: gensim in /usr/local/lib/python3.12/dist-packages (4.3.3)\n",
            "Requirement already satisfied: pymorphy2 in /usr/local/lib/python3.12/dist-packages (0.9.1)\n",
            "Requirement already satisfied: nltk in /usr/local/lib/python3.12/dist-packages (3.9.1)\n",
            "Requirement already satisfied: numpy<2.0,>=1.18.5 in /usr/local/lib/python3.12/dist-packages (from gensim) (1.26.4)\n",
            "Requirement already satisfied: scipy<1.14.0,>=1.7.0 in /usr/local/lib/python3.12/dist-packages (from gensim) (1.13.1)\n",
            "Requirement already satisfied: smart-open>=1.8.1 in /usr/local/lib/python3.12/dist-packages (from gensim) (7.3.1)\n",
            "Requirement already satisfied: dawg-python>=0.7.1 in /usr/local/lib/python3.12/dist-packages (from pymorphy2) (0.7.2)\n",
            "Requirement already satisfied: pymorphy2-dicts-ru<3.0,>=2.4 in /usr/local/lib/python3.12/dist-packages (from pymorphy2) (2.4.417127.4579844)\n",
            "Requirement already satisfied: docopt>=0.6 in /usr/local/lib/python3.12/dist-packages (from pymorphy2) (0.6.2)\n",
            "Requirement already satisfied: click in /usr/local/lib/python3.12/dist-packages (from nltk) (8.3.0)\n",
            "Requirement already satisfied: joblib in /usr/local/lib/python3.12/dist-packages (from nltk) (1.5.2)\n",
            "Requirement already satisfied: regex>=2021.8.3 in /usr/local/lib/python3.12/dist-packages (from nltk) (2024.11.6)\n",
            "Requirement already satisfied: tqdm in /usr/local/lib/python3.12/dist-packages (from nltk) (4.67.1)\n",
            "Requirement already satisfied: wrapt in /usr/local/lib/python3.12/dist-packages (from smart-open>=1.8.1->gensim) (1.17.3)\n"
          ]
        }
      ]
    },
    {
      "cell_type": "code",
      "execution_count": 38,
      "metadata": {
        "id": "AYvl-ttDNCJl",
        "scrolled": true
      },
      "outputs": [],
      "source": [
        "analyser = MorphAnalyzer()"
      ]
    },
    {
      "cell_type": "code",
      "execution_count": 32,
      "metadata": {
        "colab": {
          "base_uri": "https://localhost:8080/"
        },
        "id": "xUvP-U-nNF6Y",
        "outputId": "7d1dc3a2-2fc3-4df6-9642-f1d1e9da0331"
      },
      "outputs": [
        {
          "output_type": "execute_result",
          "data": {
            "text/plain": [
              "[Parse(word='слово', tag=OpencorporaTag('NOUN,inan,neut sing,nomn'), normal_form='слово', score=0.59813, methods_stack=((DictionaryAnalyzer(), 'слово', 54, 0),)),\n",
              " Parse(word='слово', tag=OpencorporaTag('NOUN,inan,neut sing,accs'), normal_form='слово', score=0.401869, methods_stack=((DictionaryAnalyzer(), 'слово', 54, 3),))]"
            ]
          },
          "metadata": {},
          "execution_count": 32
        }
      ],
      "source": [
        "# разобрать слово (в данном случае возможно два разбора, поэтому получаем список из двух элементов)\n",
        "result = analyser.parse('слово')\n",
        "result"
      ]
    },
    {
      "cell_type": "code",
      "execution_count": 33,
      "metadata": {
        "colab": {
          "base_uri": "https://localhost:8080/",
          "height": 36
        },
        "id": "enrQF-SQOtQP",
        "outputId": "7cab738e-d6e1-49a1-cf4c-742a01f3f246"
      },
      "outputs": [
        {
          "output_type": "execute_result",
          "data": {
            "text/plain": [
              "'NOUN'"
            ],
            "application/vnd.google.colaboratory.intrinsic+json": {
              "type": "string"
            }
          },
          "metadata": {},
          "execution_count": 33
        }
      ],
      "source": [
        "# достать часть речи\n",
        "result[0].tag.POS"
      ]
    },
    {
      "cell_type": "code",
      "execution_count": 34,
      "metadata": {
        "colab": {
          "base_uri": "https://localhost:8080/",
          "height": 36
        },
        "id": "a8P6VpjDPR_z",
        "outputId": "d882cf24-ba12-4209-e2cb-e2d0240ddbac"
      },
      "outputs": [
        {
          "output_type": "execute_result",
          "data": {
            "text/plain": [
              "'слову'"
            ],
            "application/vnd.google.colaboratory.intrinsic+json": {
              "type": "string"
            }
          },
          "metadata": {},
          "execution_count": 34
        }
      ],
      "source": [
        "# поставить в дательный падеж\n",
        "result[0].inflect(frozenset(['datv'])).word"
      ]
    },
    {
      "cell_type": "markdown",
      "metadata": {
        "id": "PNhjJC-xPwMg"
      },
      "source": [
        "Your function (for simplicity, you can not try to put the word in the \"necessary\" form and limit yourself to a nominative case):"
      ]
    },
    {
      "cell_type": "code",
      "execution_count": 35,
      "metadata": {
        "colab": {
          "base_uri": "https://localhost:8080/"
        },
        "id": "uAZnJ1tH_c_S",
        "outputId": "68039790-2f6d-44cc-ca17-1e6d8398bc11",
        "scrolled": true
      },
      "outputs": [
        {
          "output_type": "execute_result",
          "data": {
            "text/plain": [
              "[('покупать_VERB', 0.8457080125808716)]"
            ]
          },
          "metadata": {},
          "execution_count": 35
        }
      ],
      "source": [
        "model_ru.most_similar(positive=['купить_VERB'], topn=1)"
      ]
    },
    {
      "cell_type": "code",
      "execution_count": 36,
      "metadata": {
        "colab": {
          "base_uri": "https://localhost:8080/",
          "height": 36
        },
        "id": "X3i8IRL9-VO8",
        "outputId": "08b56769-82ea-4f4d-b048-2b53912bef54"
      },
      "outputs": [
        {
          "output_type": "execute_result",
          "data": {
            "text/plain": [
              "'крошечный человеколо видеть обезьяна франция '"
            ],
            "application/vnd.google.colaboratory.intrinsic+json": {
              "type": "string"
            }
          },
          "metadata": {},
          "execution_count": 36
        }
      ],
      "source": [
        "sent = 'маленький_ADJ человек_NOUN увидеть_VERB обезьяна_NOUN италия_NOUN'.split()\n",
        "new_sent = ''\n",
        "for word in sent:\n",
        "    # word = word.lower()\n",
        "    result = analyser.parse(word)[0].tag.POS\n",
        "    new_word = f'{word}_{result}'\n",
        "    top1 = model_ru.most_similar(positive=[word], topn=1)[0][0].split('_')[0]\n",
        "    new_sent += top1 + ' '\n",
        "new_sent"
      ]
    },
    {
      "cell_type": "code",
      "execution_count": 37,
      "metadata": {
        "id": "y5slDKGtP23t"
      },
      "outputs": [],
      "source": [
        "def change_random_noun(sentence):\n",
        "    # your code\n",
        "  pass"
      ]
    },
    {
      "cell_type": "markdown",
      "metadata": {
        "id": "ZNHMtmbqX-rl"
      },
      "source": [
        "## how to train your model\n",
        "\n",
        "As training data, we take the marked and unreasonable reviews about films (the dataset is taken with Kaggle)."
      ]
    },
    {
      "cell_type": "code",
      "execution_count": 39,
      "metadata": {
        "colab": {
          "base_uri": "https://localhost:8080/"
        },
        "id": "B2wv-vSxX-ro",
        "outputId": "36a6a28a-4b23-480e-f184-e43d8fbca05e"
      },
      "outputs": [
        {
          "output_type": "execute_result",
          "data": {
            "text/plain": [
              "50000"
            ]
          },
          "metadata": {},
          "execution_count": 39
        }
      ],
      "source": [
        "data = pd.read_csv(\"unlabeledTrainData.tsv\", header=0, delimiter=\"\\t\", quoting=3)\n",
        "\n",
        "len(data)"
      ]
    },
    {
      "cell_type": "code",
      "execution_count": 40,
      "metadata": {
        "colab": {
          "base_uri": "https://localhost:8080/",
          "height": 206
        },
        "id": "eEGmrh-nX-rq",
        "outputId": "df8116f8-cf36-44ba-af7b-bc2c49ebd636"
      },
      "outputs": [
        {
          "output_type": "execute_result",
          "data": {
            "text/plain": [
              "          id                                             review\n",
              "0   \"9999_0\"  \"Watching Time Chasers, it obvious that it was...\n",
              "1  \"45057_0\"  \"I saw this film about 20 years ago and rememb...\n",
              "2  \"15561_0\"  \"Minor Spoilers<br /><br />In New York, Joan B...\n",
              "3   \"7161_0\"  \"I went to see this film with a great deal of ...\n",
              "4  \"43971_0\"  \"Yes, I agree with everyone on this site this ..."
            ],
            "text/html": [
              "\n",
              "  <div id=\"df-31725296-5d2a-4e36-978b-6446accf69a3\" class=\"colab-df-container\">\n",
              "    <div>\n",
              "<style scoped>\n",
              "    .dataframe tbody tr th:only-of-type {\n",
              "        vertical-align: middle;\n",
              "    }\n",
              "\n",
              "    .dataframe tbody tr th {\n",
              "        vertical-align: top;\n",
              "    }\n",
              "\n",
              "    .dataframe thead th {\n",
              "        text-align: right;\n",
              "    }\n",
              "</style>\n",
              "<table border=\"1\" class=\"dataframe\">\n",
              "  <thead>\n",
              "    <tr style=\"text-align: right;\">\n",
              "      <th></th>\n",
              "      <th>id</th>\n",
              "      <th>review</th>\n",
              "    </tr>\n",
              "  </thead>\n",
              "  <tbody>\n",
              "    <tr>\n",
              "      <th>0</th>\n",
              "      <td>\"9999_0\"</td>\n",
              "      <td>\"Watching Time Chasers, it obvious that it was...</td>\n",
              "    </tr>\n",
              "    <tr>\n",
              "      <th>1</th>\n",
              "      <td>\"45057_0\"</td>\n",
              "      <td>\"I saw this film about 20 years ago and rememb...</td>\n",
              "    </tr>\n",
              "    <tr>\n",
              "      <th>2</th>\n",
              "      <td>\"15561_0\"</td>\n",
              "      <td>\"Minor Spoilers&lt;br /&gt;&lt;br /&gt;In New York, Joan B...</td>\n",
              "    </tr>\n",
              "    <tr>\n",
              "      <th>3</th>\n",
              "      <td>\"7161_0\"</td>\n",
              "      <td>\"I went to see this film with a great deal of ...</td>\n",
              "    </tr>\n",
              "    <tr>\n",
              "      <th>4</th>\n",
              "      <td>\"43971_0\"</td>\n",
              "      <td>\"Yes, I agree with everyone on this site this ...</td>\n",
              "    </tr>\n",
              "  </tbody>\n",
              "</table>\n",
              "</div>\n",
              "    <div class=\"colab-df-buttons\">\n",
              "\n",
              "  <div class=\"colab-df-container\">\n",
              "    <button class=\"colab-df-convert\" onclick=\"convertToInteractive('df-31725296-5d2a-4e36-978b-6446accf69a3')\"\n",
              "            title=\"Convert this dataframe to an interactive table.\"\n",
              "            style=\"display:none;\">\n",
              "\n",
              "  <svg xmlns=\"http://www.w3.org/2000/svg\" height=\"24px\" viewBox=\"0 -960 960 960\">\n",
              "    <path d=\"M120-120v-720h720v720H120Zm60-500h600v-160H180v160Zm220 220h160v-160H400v160Zm0 220h160v-160H400v160ZM180-400h160v-160H180v160Zm440 0h160v-160H620v160ZM180-180h160v-160H180v160Zm440 0h160v-160H620v160Z\"/>\n",
              "  </svg>\n",
              "    </button>\n",
              "\n",
              "  <style>\n",
              "    .colab-df-container {\n",
              "      display:flex;\n",
              "      gap: 12px;\n",
              "    }\n",
              "\n",
              "    .colab-df-convert {\n",
              "      background-color: #E8F0FE;\n",
              "      border: none;\n",
              "      border-radius: 50%;\n",
              "      cursor: pointer;\n",
              "      display: none;\n",
              "      fill: #1967D2;\n",
              "      height: 32px;\n",
              "      padding: 0 0 0 0;\n",
              "      width: 32px;\n",
              "    }\n",
              "\n",
              "    .colab-df-convert:hover {\n",
              "      background-color: #E2EBFA;\n",
              "      box-shadow: 0px 1px 2px rgba(60, 64, 67, 0.3), 0px 1px 3px 1px rgba(60, 64, 67, 0.15);\n",
              "      fill: #174EA6;\n",
              "    }\n",
              "\n",
              "    .colab-df-buttons div {\n",
              "      margin-bottom: 4px;\n",
              "    }\n",
              "\n",
              "    [theme=dark] .colab-df-convert {\n",
              "      background-color: #3B4455;\n",
              "      fill: #D2E3FC;\n",
              "    }\n",
              "\n",
              "    [theme=dark] .colab-df-convert:hover {\n",
              "      background-color: #434B5C;\n",
              "      box-shadow: 0px 1px 3px 1px rgba(0, 0, 0, 0.15);\n",
              "      filter: drop-shadow(0px 1px 2px rgba(0, 0, 0, 0.3));\n",
              "      fill: #FFFFFF;\n",
              "    }\n",
              "  </style>\n",
              "\n",
              "    <script>\n",
              "      const buttonEl =\n",
              "        document.querySelector('#df-31725296-5d2a-4e36-978b-6446accf69a3 button.colab-df-convert');\n",
              "      buttonEl.style.display =\n",
              "        google.colab.kernel.accessAllowed ? 'block' : 'none';\n",
              "\n",
              "      async function convertToInteractive(key) {\n",
              "        const element = document.querySelector('#df-31725296-5d2a-4e36-978b-6446accf69a3');\n",
              "        const dataTable =\n",
              "          await google.colab.kernel.invokeFunction('convertToInteractive',\n",
              "                                                    [key], {});\n",
              "        if (!dataTable) return;\n",
              "\n",
              "        const docLinkHtml = 'Like what you see? Visit the ' +\n",
              "          '<a target=\"_blank\" href=https://colab.research.google.com/notebooks/data_table.ipynb>data table notebook</a>'\n",
              "          + ' to learn more about interactive tables.';\n",
              "        element.innerHTML = '';\n",
              "        dataTable['output_type'] = 'display_data';\n",
              "        await google.colab.output.renderOutput(dataTable, element);\n",
              "        const docLink = document.createElement('div');\n",
              "        docLink.innerHTML = docLinkHtml;\n",
              "        element.appendChild(docLink);\n",
              "      }\n",
              "    </script>\n",
              "  </div>\n",
              "\n",
              "\n",
              "    <div id=\"df-902cd817-5118-459f-a5cc-573881044e4c\">\n",
              "      <button class=\"colab-df-quickchart\" onclick=\"quickchart('df-902cd817-5118-459f-a5cc-573881044e4c')\"\n",
              "                title=\"Suggest charts\"\n",
              "                style=\"display:none;\">\n",
              "\n",
              "<svg xmlns=\"http://www.w3.org/2000/svg\" height=\"24px\"viewBox=\"0 0 24 24\"\n",
              "     width=\"24px\">\n",
              "    <g>\n",
              "        <path d=\"M19 3H5c-1.1 0-2 .9-2 2v14c0 1.1.9 2 2 2h14c1.1 0 2-.9 2-2V5c0-1.1-.9-2-2-2zM9 17H7v-7h2v7zm4 0h-2V7h2v10zm4 0h-2v-4h2v4z\"/>\n",
              "    </g>\n",
              "</svg>\n",
              "      </button>\n",
              "\n",
              "<style>\n",
              "  .colab-df-quickchart {\n",
              "      --bg-color: #E8F0FE;\n",
              "      --fill-color: #1967D2;\n",
              "      --hover-bg-color: #E2EBFA;\n",
              "      --hover-fill-color: #174EA6;\n",
              "      --disabled-fill-color: #AAA;\n",
              "      --disabled-bg-color: #DDD;\n",
              "  }\n",
              "\n",
              "  [theme=dark] .colab-df-quickchart {\n",
              "      --bg-color: #3B4455;\n",
              "      --fill-color: #D2E3FC;\n",
              "      --hover-bg-color: #434B5C;\n",
              "      --hover-fill-color: #FFFFFF;\n",
              "      --disabled-bg-color: #3B4455;\n",
              "      --disabled-fill-color: #666;\n",
              "  }\n",
              "\n",
              "  .colab-df-quickchart {\n",
              "    background-color: var(--bg-color);\n",
              "    border: none;\n",
              "    border-radius: 50%;\n",
              "    cursor: pointer;\n",
              "    display: none;\n",
              "    fill: var(--fill-color);\n",
              "    height: 32px;\n",
              "    padding: 0;\n",
              "    width: 32px;\n",
              "  }\n",
              "\n",
              "  .colab-df-quickchart:hover {\n",
              "    background-color: var(--hover-bg-color);\n",
              "    box-shadow: 0 1px 2px rgba(60, 64, 67, 0.3), 0 1px 3px 1px rgba(60, 64, 67, 0.15);\n",
              "    fill: var(--button-hover-fill-color);\n",
              "  }\n",
              "\n",
              "  .colab-df-quickchart-complete:disabled,\n",
              "  .colab-df-quickchart-complete:disabled:hover {\n",
              "    background-color: var(--disabled-bg-color);\n",
              "    fill: var(--disabled-fill-color);\n",
              "    box-shadow: none;\n",
              "  }\n",
              "\n",
              "  .colab-df-spinner {\n",
              "    border: 2px solid var(--fill-color);\n",
              "    border-color: transparent;\n",
              "    border-bottom-color: var(--fill-color);\n",
              "    animation:\n",
              "      spin 1s steps(1) infinite;\n",
              "  }\n",
              "\n",
              "  @keyframes spin {\n",
              "    0% {\n",
              "      border-color: transparent;\n",
              "      border-bottom-color: var(--fill-color);\n",
              "      border-left-color: var(--fill-color);\n",
              "    }\n",
              "    20% {\n",
              "      border-color: transparent;\n",
              "      border-left-color: var(--fill-color);\n",
              "      border-top-color: var(--fill-color);\n",
              "    }\n",
              "    30% {\n",
              "      border-color: transparent;\n",
              "      border-left-color: var(--fill-color);\n",
              "      border-top-color: var(--fill-color);\n",
              "      border-right-color: var(--fill-color);\n",
              "    }\n",
              "    40% {\n",
              "      border-color: transparent;\n",
              "      border-right-color: var(--fill-color);\n",
              "      border-top-color: var(--fill-color);\n",
              "    }\n",
              "    60% {\n",
              "      border-color: transparent;\n",
              "      border-right-color: var(--fill-color);\n",
              "    }\n",
              "    80% {\n",
              "      border-color: transparent;\n",
              "      border-right-color: var(--fill-color);\n",
              "      border-bottom-color: var(--fill-color);\n",
              "    }\n",
              "    90% {\n",
              "      border-color: transparent;\n",
              "      border-bottom-color: var(--fill-color);\n",
              "    }\n",
              "  }\n",
              "</style>\n",
              "\n",
              "      <script>\n",
              "        async function quickchart(key) {\n",
              "          const quickchartButtonEl =\n",
              "            document.querySelector('#' + key + ' button');\n",
              "          quickchartButtonEl.disabled = true;  // To prevent multiple clicks.\n",
              "          quickchartButtonEl.classList.add('colab-df-spinner');\n",
              "          try {\n",
              "            const charts = await google.colab.kernel.invokeFunction(\n",
              "                'suggestCharts', [key], {});\n",
              "          } catch (error) {\n",
              "            console.error('Error during call to suggestCharts:', error);\n",
              "          }\n",
              "          quickchartButtonEl.classList.remove('colab-df-spinner');\n",
              "          quickchartButtonEl.classList.add('colab-df-quickchart-complete');\n",
              "        }\n",
              "        (() => {\n",
              "          let quickchartButtonEl =\n",
              "            document.querySelector('#df-902cd817-5118-459f-a5cc-573881044e4c button');\n",
              "          quickchartButtonEl.style.display =\n",
              "            google.colab.kernel.accessAllowed ? 'block' : 'none';\n",
              "        })();\n",
              "      </script>\n",
              "    </div>\n",
              "\n",
              "    </div>\n",
              "  </div>\n"
            ],
            "application/vnd.google.colaboratory.intrinsic+json": {
              "type": "dataframe",
              "variable_name": "data",
              "summary": "{\n  \"name\": \"data\",\n  \"rows\": 50000,\n  \"fields\": [\n    {\n      \"column\": \"id\",\n      \"properties\": {\n        \"dtype\": \"string\",\n        \"num_unique_values\": 50000,\n        \"samples\": [\n          \"\\\"2545_0\\\"\",\n          \"\\\"8811_0\\\"\",\n          \"\\\"3696_0\\\"\"\n        ],\n        \"semantic_type\": \"\",\n        \"description\": \"\"\n      }\n    },\n    {\n      \"column\": \"review\",\n      \"properties\": {\n        \"dtype\": \"string\",\n        \"num_unique_values\": 49507,\n        \"samples\": [\n          \"\\\"Oh God, where do I begin? The murder in the alley? The bad guy with the shark mask? The Nazi Pope? The clumsy lip synching by the plastic woman in the wheel chair? The plastic woman having sex? All the above? Yes and much more.<br /><br />Lets cut to the chase: this movie is awful. The first thing is the bad script. Crappy burger chain using human remains funded by the 'Nazi Pope' with crappy F-rated detectives on their tale. And somehow related to a shark-man who wants revenge. Already makes your head hurt.<br /><br />Then you got the crappy sound editing and the lousy camera work. Could they get the mannequin to lip synch right or was that out of the budget? And what is up with the mannequin sex scene? Just plain retarded in every aspect.<br /><br />Quite frankly this is the worst movie I have never seen such bad acting in all my life. In fact, this is the worst movie I have ever seen so far in my life. The only comparable film in horrible quality is \\\\\\\"Deady Drifter\\\\\\\" - aka \\\\\\\"Out\\\\\\\" with Danny Glover. But this one, with its non-ending ending and lack of brain power prove to be the undoing before this one ever began.<br /><br />Sucks, sucks, and yes - sucks. \\\\\\\"F\\\\\\\"\\\"\",\n          \"\\\"Okay, I understand that this is a kid's movie, and that it's intended to simply be fun. However, that's no excuse for the wreck of a screenplay provided by Britt Allcroft. Some day I may be compelled out of sheer obsession to document the many problems with this movie, but the most fundamental flaw is the continued use of the \\\\\\\"Shining Time\\\\\\\" additions to the Awdry stories. Didi Conn is the only thing shining in Shining Time, created for US TV audiences to stitch together the excellent model railroad Thomas stories. The only thing is, they didn't need to be stitched together, as they stand up just fine on their own in book and video. Worse, the Shining Time portions on TV are excruciating to watch...and now the whole premise is brought to a movie.<br /><br />Now it seems there's some kind of magic railroad connecting a mythical British island railroad to Shining Time, clearly in the USA. In fact, it must be in Lancaster, PA, USA, because the Strasburg Railroad locomotive #475 makes a few appearances in the movie (in Strasburg and Harrisburg, PA) and I doubt it's ever been across the Atlantic.<br /><br />Anyway, to make a long and painful story short, there's almost no motivation for any of the characters in this story to do anything at all. Somehow Mr. Conductor (not an Awdry creation) is running out of gold dust, which will somehow make his \\\\\\\"universe\\\\\\\" fall apart. There's no mention as to why supplies would dwindle to nothing when it's the only thing holding Sodor together - Mr. Conductor is pretty irresponsible if you ask me. He summons his idiot brother who is no help at all, and together they and the rest of the characters stumble on the answer and save the day in a completely underwhelming conclusion.<br /><br />The gold dust emergency happens to coincide with the apparent return of a diesel engine intent on destroying steam engines. The whole evil-diesel and his predictable sidekick-duo are completely unnecessary and just scare the little kids (like my two-year-old). I assume that the marketing folks needed a few more new characters to work into the merchandising mix because there's no excuse for the plot damage caused by the diesel.<br /><br />Your kids may enjoy the railroad scenes, but don't watch this movie unless you want your brains to leak out of your head and turn to mush. The models are great, but the acting and writing are ridiculous. Avoid at all costs!!!\\\"\",\n          \"\\\"The Fans of \\\\\\\"Star Wars - Clone Wars\\\\\\\" may tar and feather me for my opinion, but after seeing this on TV a few months ago (aired directly after the original \\\\\\\"Star Wars - Attack of the Clones\\\\\\\"-Picture) i was extremely disappointed. As a \\\\\\\"Star Wars\\\\\\\"-Fan since 1977 i expected something, that surely will not par up to George Lucas original movies, but a least pay homage to the original movies, but after 15 Minutes i turned the TV off. The cheap animation (boldly called in another comment \\\\\\\"state-of-the-art\\\\\\\"...) was on the roughest level, The movings, explosions and laser-shots was always the same animation-cels reused and reused, the depicting of the actors in his animated forms was ridiculous, the dialogue was extremely stupid... i can't help, i simply did not like this film! It was an insult to George Lucas original movies for me! The next shock for me was to search here on the IMDb for it... Rating 8.1!! Come on: Ed Wood (in drunken condition) would it done better! Everyone has it's own opinion, but i did not like this film, and no power (even not \\\\\\\"the force\\\\\\\" :-) will force me to see the whole thing!\\\"\"\n        ],\n        \"semantic_type\": \"\",\n        \"description\": \"\"\n      }\n    }\n  ]\n}"
            }
          },
          "metadata": {},
          "execution_count": 40
        }
      ],
      "source": [
        "data.head()"
      ]
    },
    {
      "cell_type": "markdown",
      "metadata": {
        "id": "oIZaQ3kYX-rt"
      },
      "source": [
        "We remove the link from the data, the HTML damping and non-table symbols, and then bring everything to the lower register and tocenize. The output is an array of sentences, each of which is an array of words. A tokenizer from the `nltk` library is used here."
      ]
    },
    {
      "cell_type": "code",
      "source": [
        "import nltk\n",
        "nltk.download('punkt')\n",
        "nltk.download('punkt_tab')\n"
      ],
      "metadata": {
        "colab": {
          "base_uri": "https://localhost:8080/"
        },
        "id": "oEUUrFihesxm",
        "outputId": "6679b470-3993-45ed-8b6b-9a2afdaac4fe"
      },
      "execution_count": 42,
      "outputs": [
        {
          "output_type": "stream",
          "name": "stderr",
          "text": [
            "[nltk_data] Downloading package punkt to /root/nltk_data...\n",
            "[nltk_data]   Package punkt is already up-to-date!\n",
            "[nltk_data] Downloading package punkt_tab to /root/nltk_data...\n",
            "[nltk_data]   Unzipping tokenizers/punkt_tab.zip.\n"
          ]
        },
        {
          "output_type": "execute_result",
          "data": {
            "text/plain": [
              "True"
            ]
          },
          "metadata": {},
          "execution_count": 42
        }
      ]
    },
    {
      "cell_type": "code",
      "execution_count": 43,
      "metadata": {
        "id": "ZAzxyk3WTgrd"
      },
      "outputs": [],
      "source": [
        "tokenizer = nltk.data.load('tokenizers/punkt/english.pickle')"
      ]
    },
    {
      "cell_type": "code",
      "execution_count": 44,
      "metadata": {
        "id": "irbunSOfX-rt"
      },
      "outputs": [],
      "source": [
        "def review_to_wordlist(review, remove_stopwords=False ):\n",
        "    # убираем ссылки\n",
        "    review = re.sub(r\"http[s]?://(?:[a-zA-Z]|[0-9]|[$-_@.&+]|[!*\\(\\),]|(?:%[0-9a-fA-F][0-9a-fA-F]))+\", \" \", review)\n",
        "    # достаем сам текст\n",
        "    review_text = BeautifulSoup(review, \"lxml\").get_text()\n",
        "    # оставляем только буквенные символы\n",
        "    review_text = re.sub(\"[^a-zA-Z]\",\" \", review_text)\n",
        "    # приводим к нижнему регистру и разбиваем на слова по символу пробела\n",
        "    words = review_text.lower().split()\n",
        "    if remove_stopwords: # убираем стоп-слова\n",
        "        stops = stopwords.words(\"english\")\n",
        "        words = [w for w in words if not w in stops]\n",
        "    return(words)\n",
        "\n",
        "def review_to_sentences(review, tokenizer, remove_stopwords=False):\n",
        "    # разбиваем обзор на предложения\n",
        "    raw_sentences = tokenizer.tokenize(review.strip())\n",
        "    sentences = []\n",
        "    # применяем предыдущую функцию к каждому предложению\n",
        "    for raw_sentence in raw_sentences:\n",
        "        if len(raw_sentence) > 0:\n",
        "            sentences.append(review_to_wordlist(raw_sentence, remove_stopwords))\n",
        "    return sentences"
      ]
    },
    {
      "cell_type": "code",
      "execution_count": 45,
      "metadata": {
        "colab": {
          "base_uri": "https://localhost:8080/"
        },
        "id": "bolPEuQgX-rv",
        "outputId": "4dab3d5a-9183-4c8a-9e57-5125481a443e"
      },
      "outputs": [
        {
          "output_type": "stream",
          "name": "stdout",
          "text": [
            "Parsing sentences from training set...\n"
          ]
        }
      ],
      "source": [
        "#logging.basicConfig(format='%(asctime)s : %(levelname)s : %(message)s', level=logging.INFO)\n",
        "\n",
        "sentences = []\n",
        "\n",
        "print(\"Parsing sentences from training set...\")\n",
        "for review in data[\"review\"]:\n",
        "    sentences += review_to_sentences(review, tokenizer)"
      ]
    },
    {
      "cell_type": "code",
      "execution_count": 46,
      "metadata": {
        "colab": {
          "base_uri": "https://localhost:8080/"
        },
        "id": "RCgyQhmxNmTo",
        "outputId": "9dcc47b4-4986-4859-a51f-951694c516fe"
      },
      "outputs": [
        {
          "output_type": "stream",
          "name": "stderr",
          "text": [
            "[nltk_data] Downloading package stopwords to /root/nltk_data...\n",
            "[nltk_data]   Unzipping corpora/stopwords.zip.\n"
          ]
        },
        {
          "output_type": "execute_result",
          "data": {
            "text/plain": [
              "True"
            ]
          },
          "metadata": {},
          "execution_count": 46
        }
      ],
      "source": [
        "nltk.download('stopwords')"
      ]
    },
    {
      "cell_type": "code",
      "execution_count": 47,
      "metadata": {
        "colab": {
          "base_uri": "https://localhost:8080/"
        },
        "id": "FbrH6TdfX-rx",
        "outputId": "427ceff9-1ea8-4ac8-8a74-78d0a7312eca"
      },
      "outputs": [
        {
          "output_type": "stream",
          "name": "stdout",
          "text": [
            "529416\n",
            "['watching', 'time', 'chasers', 'it', 'obvious', 'that', 'it', 'was', 'made', 'by', 'a', 'bunch', 'of', 'friends']\n"
          ]
        }
      ],
      "source": [
        "print(len(sentences))\n",
        "print(sentences[0])"
      ]
    },
    {
      "cell_type": "code",
      "execution_count": 48,
      "metadata": {
        "id": "Cqb_NOteX-rz"
      },
      "outputs": [],
      "source": [
        "# это понадобится нам позже\n",
        "\n",
        "with open('clean_text.txt', 'w') as f:\n",
        "    for s in sentences[:5000]:\n",
        "        f.write(' '.join(s))\n",
        "        f.write('\\n')"
      ]
    },
    {
      "cell_type": "markdown",
      "metadata": {
        "id": "qqFhuv7XX-r1"
      },
      "source": [
        "We teach and save the model.\n",
        "\n",
        "\n",
        "Main parameters:\n",
        "* Data must be an iterized object\n",
        "* Size - size vector,\n",
        "* Window - observation window size,\n",
        "* min_count - min. The frequency of the word in the case,\n",
        "* SG-used learning algorithm (0-CBOW, 1-SKIP-GRAM),\n",
        "* sample - threshold for download of high -frequency words,\n",
        "* works - the number of flows,\n",
        "* alpha — learning rate,\n",
        "* Iter - the number of iterations,\n",
        "* max_vocab_size - allows you to set the restriction from memory when creating a dictionary (i.e., if the restriction is exceeded, then low -frequency words will be released). For comparison: 10 million words = 1GB RAM.\n",
        "\n",
        "** NB! ** Please note that the modeling of the model does not include preprocessing! This means that getting rid of punctuation, leading words to the lower register, lemmetizing them, and frequency tags will have to be affixed before modeling the model (unless, of course, this is necessary for your task). Those. In what form the words will be in the original text, in this they will be in the model."
      ]
    },
    {
      "cell_type": "code",
      "execution_count": 49,
      "metadata": {
        "colab": {
          "base_uri": "https://localhost:8080/"
        },
        "id": "OB2FqIioX-r1",
        "outputId": "2610e266-3eac-4488-c4c1-1bec494e6e91"
      },
      "outputs": [
        {
          "output_type": "stream",
          "name": "stdout",
          "text": [
            "Training model...\n",
            "CPU times: user 2 µs, sys: 0 ns, total: 2 µs\n",
            "Wall time: 5.01 µs\n"
          ]
        }
      ],
      "source": [
        "print(\"Training model...\")\n",
        "\n",
        "%time\n",
        "model_en = word2vec.Word2Vec(sentences, workers=4, vector_size=300, min_count=10, window=10, sample=1e-3)"
      ]
    },
    {
      "cell_type": "markdown",
      "metadata": {
        "id": "HFU6SYAZX-r3"
      },
      "source": [
        "We look how many words are in the model."
      ]
    },
    {
      "cell_type": "code",
      "execution_count": 51,
      "metadata": {
        "colab": {
          "base_uri": "https://localhost:8080/"
        },
        "id": "HA3P0CUYX-r4",
        "outputId": "ff24a4fe-ab11-4129-a069-ba580bf0b19e"
      },
      "outputs": [
        {
          "output_type": "stream",
          "name": "stdout",
          "text": [
            "28308\n"
          ]
        }
      ],
      "source": [
        "print(len(model_en.wv.key_to_index))"
      ]
    },
    {
      "cell_type": "markdown",
      "metadata": {
        "id": "2mU9sbGYX-r8"
      },
      "source": [
        "Let's try to evaluate the model manually by solving examples. A little given below, try to come up with your own."
      ]
    },
    {
      "cell_type": "code",
      "execution_count": 52,
      "metadata": {
        "colab": {
          "base_uri": "https://localhost:8080/"
        },
        "id": "n8OQxmUyX-r9",
        "outputId": "fc421281-bd2a-4a97-c73b-7d07c4866c2f"
      },
      "outputs": [
        {
          "output_type": "stream",
          "name": "stdout",
          "text": [
            "[('queen', 0.5833498239517212), ('prince', 0.5758327841758728), ('princess', 0.5666952729225159)]\n",
            "[('men', 0.6268342733383179)]\n",
            "[('europe', 0.732401967048645), ('germany', 0.7268403768539429), ('uk', 0.7255765795707703)]\n",
            "novel\n"
          ]
        }
      ],
      "source": [
        "print(model_en.wv.most_similar(positive=[\"king\", \"woman\"], negative=[\"man\"], topn=3))\n",
        "print(model_en.wv.most_similar(positive=[\"dogs\", \"man\"], negative=[\"dog\"], topn=1))\n",
        "\n",
        "print(model_en.wv.most_similar(\"usa\", topn=3))\n",
        "\n",
        "print(model_en.wv.doesnt_match(\"comedy thriller western novel\".split()))"
      ]
    },
    {
      "cell_type": "markdown",
      "metadata": {
        "id": "juR4NX0wX-r_"
      },
      "source": [
        "### How to receive an existing model\n",
        "\n",
        "When training, the “weight” models are initialized by accident, but it can be used to initialize weight vectors from a pre -scientific model, thus, as it were, who is accustomed to it.\n",
        "\n",
        "First, let's see the proximity of some pair of words in the existing model, then to compare the result with the learned one."
      ]
    },
    {
      "cell_type": "code",
      "execution_count": 53,
      "metadata": {
        "colab": {
          "base_uri": "https://localhost:8080/"
        },
        "id": "rAUVp96kX-sA",
        "outputId": "2b0b0871-63a3-44ba-bd27-7a18764015f8"
      },
      "outputs": [
        {
          "output_type": "execute_result",
          "data": {
            "text/plain": [
              "0.6678133"
            ]
          },
          "metadata": {},
          "execution_count": 53
        }
      ],
      "source": [
        "model_en.wv.similarity('italy', 'north')"
      ]
    },
    {
      "cell_type": "markdown",
      "metadata": {
        "id": "Mxsz8DKMX-sD"
      },
      "source": [
        "As additional data for learning, take the English text “Alice in the Zadaker”."
      ]
    },
    {
      "cell_type": "code",
      "execution_count": 54,
      "metadata": {
        "colab": {
          "base_uri": "https://localhost:8080/"
        },
        "id": "yHuXJgB_X-sI",
        "outputId": "a5a6d3a3-0552-4ae2-976d-35bbec324be8"
      },
      "outputs": [
        {
          "output_type": "stream",
          "name": "stdout",
          "text": [
            "[['through', 'the', 'looking-glass', 'by', 'lewis', 'carroll', 'chapter', 'i', 'looking-glass', 'house', 'one', 'thing', 'was', 'certain', 'that', 'the', 'white', 'kitten', 'had', 'had', 'nothing', 'to', 'do', 'with', 'it', '', 'it', 'was', 'the', 'black', 'kitten’s', 'fault', 'entirely'], ['for', 'the', 'white', 'kitten', 'had', 'been', 'having', 'its', 'face', 'washed', 'by', 'the', 'old', 'cat', 'for', 'the', 'last', 'quarter', 'of', 'an', 'hour', 'and', 'bearing', 'it', 'pretty', 'well', 'considering', 'so', 'you', 'see', 'that', 'it', 'couldn’t', 'have', 'had', 'any', 'hand', 'in', 'the', 'mischief']]\n"
          ]
        },
        {
          "output_type": "stream",
          "name": "stderr",
          "text": [
            "<>:9: SyntaxWarning: invalid escape sequence '\\]'\n",
            "<>:9: SyntaxWarning: invalid escape sequence '\\]'\n",
            "/tmp/ipython-input-2075466421.py:9: SyntaxWarning: invalid escape sequence '\\]'\n",
            "  punct = '!\"#$%&()*+,-./:;<=>?@[\\]^_`{|}~„“«»†*—/\\-‘’'\n"
          ]
        }
      ],
      "source": [
        "with open(\"alice.txt\", 'r', encoding='utf-8') as f:\n",
        "    text = f.read()\n",
        "\n",
        "# убираем переносы строк, токенизируем текст\n",
        "text = re.sub('\\n', ' ', text)\n",
        "sents = sent_tokenize(text)\n",
        "\n",
        "# убираем всю пунктуацию и делим текст на слова по пробелу\n",
        "punct = '!\"#$%&()*+,-./:;<=>?@[\\]^_`{|}~„“«»†*—/\\-‘’'\n",
        "clean_sents = []\n",
        "for sent in sents:\n",
        "    s = [w.lower().strip(punct) for w in sent.split()]\n",
        "    clean_sents.append(s)\n",
        "\n",
        "print(clean_sents[:2])"
      ]
    },
    {
      "cell_type": "markdown",
      "metadata": {
        "id": "dH8f7GNBX-sK"
      },
      "source": [
        "To receive the model, you must first save it, and then load it. All parameters of the training (the size of the vector, min. The frequency of the word, etc.) will be taken from the loaded model, i.e. You can’t again set them.\n",
        "\n",
        "** NB! ** You can only receive a full model, and `keyedVectors` is impossible. Therefore, the model must be preserved in a corresponding format. Read more about the difference XX_MarkDown_Link_XX."
      ]
    },
    {
      "cell_type": "code",
      "execution_count": 55,
      "metadata": {
        "colab": {
          "base_uri": "https://localhost:8080/"
        },
        "id": "Rv--44TmX-sL",
        "outputId": "b8bd087e-ed49-4a7b-afc9-2d25bf2ea174"
      },
      "outputs": [
        {
          "output_type": "stream",
          "name": "stdout",
          "text": [
            "Saving model...\n"
          ]
        }
      ],
      "source": [
        "model_path = \"movie_reviews.model\"\n",
        "\n",
        "print(\"Saving model...\")\n",
        "model_en.save(model_path)"
      ]
    },
    {
      "cell_type": "code",
      "execution_count": 56,
      "metadata": {
        "colab": {
          "base_uri": "https://localhost:8080/"
        },
        "id": "f6eZwBQzX-sQ",
        "outputId": "ecf3aec4-0c13-4380-f17d-5aaa71bea99c"
      },
      "outputs": [
        {
          "output_type": "stream",
          "name": "stderr",
          "text": [
            "WARNING:gensim.models.word2vec:Effective 'alpha' higher than previous training cycles\n"
          ]
        },
        {
          "output_type": "execute_result",
          "data": {
            "text/plain": [
              "(96993, 150225)"
            ]
          },
          "metadata": {},
          "execution_count": 56
        }
      ],
      "source": [
        "model = word2vec.Word2Vec.load(model_path)\n",
        "\n",
        "model.build_vocab(clean_sents, update=True)\n",
        "model.train(clean_sents, total_examples=model.corpus_count, epochs=5)"
      ]
    },
    {
      "cell_type": "markdown",
      "metadata": {
        "id": "nMLhISWiX-sS"
      },
      "source": [
        "Leo and rabbit have become closer to each other!"
      ]
    },
    {
      "cell_type": "code",
      "execution_count": 57,
      "metadata": {
        "colab": {
          "base_uri": "https://localhost:8080/"
        },
        "id": "4USaUjmzX-sS",
        "outputId": "21f6c207-d58e-4b2f-a2a3-e7ae38e537d2"
      },
      "outputs": [
        {
          "output_type": "execute_result",
          "data": {
            "text/plain": [
              "0.296406"
            ]
          },
          "metadata": {},
          "execution_count": 57
        }
      ],
      "source": [
        "model.wv.similarity('lion', 'cat')"
      ]
    },
    {
      "cell_type": "markdown",
      "metadata": {
        "id": "F5bYd1qmX-sT"
      },
      "source": [
        "You can normalize the vector, then the model will occupy less RAM. However, after that it cannot be finished. Here, L2-Normalization is used: the vectors are normalized so that if you fold the squares of all elements of the vector, in total it turns out 1.\n",
        "\n",
        "In addition, we will preserve not complete vectors, but `KeyedVectors`."
      ]
    },
    {
      "cell_type": "code",
      "execution_count": 58,
      "metadata": {
        "colab": {
          "base_uri": "https://localhost:8080/"
        },
        "id": "ZAVaTYvQX-sU",
        "outputId": "f616f713-3010-4450-8fbb-6ae71f6cf504"
      },
      "outputs": [
        {
          "output_type": "stream",
          "name": "stdout",
          "text": [
            "Saving model...\n"
          ]
        }
      ],
      "source": [
        "# model.init_sims(replace=True)\n",
        "model_path = \"movies_alice.bin\"\n",
        "\n",
        "print(\"Saving model...\")\n",
        "model.wv.save_word2vec_format(model_path, binary=True)"
      ]
    },
    {
      "cell_type": "markdown",
      "metadata": {
        "id": "CXKnPffPX-sY"
      },
      "source": [
        "## assessment\n",
        "\n",
        "This, of course, is good, but how to understand which model is better? Or, for example, I made my model, but how to understand how good it is?\n",
        "\n",
        "For this, there are special datasets to assess the quality of distribution models. The main two: one measures the accuracy of solving problems on analogy (about Russia and dumplings), and the second is used to assess the coefficient of semantic proximity.\n",
        "\n",
        "### Word Similarity\n",
        "\n",
        "This method is to evaluate how ideas about the semantic proximity of words in the model are related to the \"ideas\" of people.\n",
        "\n",
        "| Word 1 | Word 2 | proximity |\n",
        "|------------|------------|----------|\n",
        "| cat | dog | 0.7 |\n",
        "| Cup | mug | 0.9 |\n",
        "\n",
        "For each pair of words from a predetermined dataset, we can calculate the cosine distance, and get a list of such meanings. At the same time, we already have a list of meanings made by people. We can compare these two lists and understand how similar they are (for example, considering the correlation). This measure of similarity should talk about how well the model simulates the distance to the word.\n",
        "\n",
        "### analogies\n",
        "\n",
        "Another popular task for an “internal” assessment is called the task of searching analogies. As we have already analyzed above, with the help of simple arithmetic operations, we can modify the meaning of the word. If you collect a set of words-modifiers in advance, as well as the words that we want to get into the results of the modification, then based on the calculation of the number of “hits” in the desired word, we can evaluate how well the model works well.\n",
        "\n",
        "As a word-modifier, we can use semantic analogies. Say, if we have some attitude of the \"country country\", then to evaluate the model we can use pairs like \"Russia-Moscow\", \"Norway-Ovos\", etc. Dataset will look as follows:\n",
        "\n",
        "| Word 1 | Word 2 | Attitude\n",
        "|------------|------------|---------------|\n",
        "| Russia | Moscow | Country Country |\n",
        "| Norway | Oslo Side\n",
        "\n",
        "Considering the random two pairs from this set, we want to, having a triplet (Russia, Moscow, Norway), we want to get the word \"Oslo\", i.e. Find the word that will be in the same respect with the word \"Norway\" as \"Russia\" is with Moscow.\n",
        "\n",
        "Datasets for the Russian language can be downloaded on a page with models on rusvectores. We calculate the quality of our NKRA model on the Dataset about the analogy:"
      ]
    },
    {
      "cell_type": "code",
      "execution_count": null,
      "metadata": {
        "collapsed": true,
        "jupyter": {
          "outputs_hidden": true
        },
        "id": "HiBnUipSW2wK"
      },
      "outputs": [],
      "source": [
        "file_txt = open('questions-words.txt', 'r')\n",
        "file_txt.readline()"
      ]
    },
    {
      "cell_type": "code",
      "execution_count": null,
      "metadata": {
        "id": "xisXadgVuHTb"
      },
      "outputs": [],
      "source": [
        "res = model.wv.evaluate_word_analogies(datapath('questions-words.txt'))"
      ]
    },
    {
      "cell_type": "code",
      "execution_count": null,
      "metadata": {
        "id": "wosWMPCkGBjB"
      },
      "outputs": [],
      "source": [
        "res[0]"
      ]
    },
    {
      "cell_type": "markdown",
      "metadata": {
        "id": "Sv0wxUXIX-se"
      },
      "source": [
        "## visualization\n",
        "\n",
        "You can see the resulting model by visualizing it, for example, on a plane.\n",
        "### T-Sne\n",
        "\n",
        "** T-SNE ** (*t-distributed stochastic neighbor embedding*)-a technique of non-linear decrease in dimension and visualization of multidimensional variables. It is designed specifically for the high dimension data L. van der Maaten and D. Hinton, XX_MarkDown_Link_XX. T-SNE is an iterative algorithm based on the calculation of pair distances between all objects (including therefore, it is quite slow).\n",
        "\n",
        "\n",
        "We portray on a plane of 1000 most frequency words from a collection of texts about cinema:"
      ]
    },
    {
      "cell_type": "code",
      "execution_count": null,
      "metadata": {
        "id": "5UH91gFyX-sf"
      },
      "outputs": [],
      "source": [
        "top_words = []\n",
        "\n",
        "\n",
        "fd = FreqDist()\n",
        "for s in tqdm(sentences):\n",
        "    fd.update(s)\n",
        "\n",
        "for w in fd.most_common(1000):\n",
        "    top_words.append(w[0])\n",
        "\n",
        "print(top_words[:50:])\n",
        "top_words_vec = model.wv[top_words]"
      ]
    },
    {
      "cell_type": "code",
      "execution_count": null,
      "metadata": {
        "id": "8jx_BhKHTgsG"
      },
      "outputs": [],
      "source": [
        "top_words_vec = model.wv[top_words]"
      ]
    },
    {
      "cell_type": "code",
      "execution_count": null,
      "metadata": {
        "collapsed": true,
        "jupyter": {
          "outputs_hidden": true
        },
        "id": "QIy-F7A9W2wL"
      },
      "outputs": [],
      "source": [
        "!pip install --upgrade numpy scikit-learn threadpoolctl\n"
      ]
    },
    {
      "cell_type": "code",
      "execution_count": null,
      "metadata": {
        "collapsed": true,
        "jupyter": {
          "outputs_hidden": true
        },
        "scrolled": true,
        "id": "DsqdLarcW2wM"
      },
      "outputs": [],
      "source": [
        "!pip install MulticoreTSNE"
      ]
    },
    {
      "cell_type": "code",
      "execution_count": null,
      "metadata": {
        "id": "74FvTsuuX-sg"
      },
      "outputs": [],
      "source": [
        "%%time\n",
        "tsne = TSNE(n_components=2, random_state=0)\n"
      ]
    },
    {
      "cell_type": "code",
      "execution_count": null,
      "metadata": {
        "id": "ZUyfh3R5W2wM"
      },
      "outputs": [],
      "source": [
        "!conda install -c conda-forge scikit-learn\n"
      ]
    },
    {
      "cell_type": "code",
      "execution_count": null,
      "metadata": {
        "collapsed": true,
        "jupyter": {
          "outputs_hidden": true
        },
        "id": "NwJEkYcfW2wM"
      },
      "outputs": [],
      "source": [
        "top_words_tsne = tsne.fit_transform(top_words_vec)"
      ]
    },
    {
      "cell_type": "code",
      "execution_count": null,
      "metadata": {
        "collapsed": true,
        "id": "R0A__XKwX-si",
        "jupyter": {
          "outputs_hidden": true
        },
        "scrolled": true
      },
      "outputs": [],
      "source": [
        "output_notebook()\n",
        "\n",
        "p = figure(tools=\"pan,wheel_zoom,reset,save\",\n",
        "           toolbar_location=\"above\",\n",
        "           title=\"word2vec T-SNE (eng model, top1000 words)\")\n",
        "\n",
        "source = ColumnDataSource(data=dict(x1=top_words_tsne[:,0],\n",
        "                                    x2=top_words_tsne[:,1],\n",
        "                                    names=top_words))\n",
        "\n",
        "p.scatter(x=\"x1\", y=\"x2\", size=8, source=source)\n",
        "\n",
        "labels = LabelSet(x=\"x1\", y=\"x2\", text=\"names\", y_offset=6,\n",
        "                  text_font_size=\"8pt\", text_color=\"#555555\",\n",
        "                  source=source, text_align='center')\n",
        "p.add_layout(labels)\n",
        "\n",
        "show(p)"
      ]
    },
    {
      "cell_type": "markdown",
      "metadata": {
        "id": "2Szes63RX-sl"
      },
      "source": [
        "To calculate the transformation of T-SNE faster (and sometimes more effective), you can first reduce the dimension of the source data using, for example, SVD, and then use T-SNE:"
      ]
    },
    {
      "cell_type": "code",
      "execution_count": null,
      "metadata": {
        "id": "p0R7hvIfX-sm"
      },
      "outputs": [],
      "source": [
        "svd_50 = TruncatedSVD(n_components=50)\n",
        "top_words_vec_50 = svd_50.fit_transform(top_words_vec)\n",
        "top_words_tsne2 = TSNE(n_components=2, random_state=0).fit_transform(top_words_vec_50)"
      ]
    },
    {
      "cell_type": "code",
      "execution_count": null,
      "metadata": {
        "id": "zpUJyJibX-sn"
      },
      "outputs": [],
      "source": [
        "output_notebook()\n",
        "\n",
        "p = figure(tools=\"pan,wheel_zoom,reset,save\",\n",
        "           toolbar_location=\"above\",\n",
        "           title=\"word2vec T-SNE (eng model, top1000 words, +SVD)\")\n",
        "\n",
        "source = ColumnDataSource(data=dict(x1=top_words_tsne2[:,0],\n",
        "                                    x2=top_words_tsne2[:,1],\n",
        "                                    names=top_words))\n",
        "\n",
        "p.scatter(x=\"x1\", y=\"x2\", size=8, source=source)\n",
        "\n",
        "labels = LabelSet(x=\"x1\", y=\"x2\", text=\"names\", y_offset=6,\n",
        "                  text_font_size=\"8pt\", text_color=\"#555555\",\n",
        "                  source=source, text_align='center')\n",
        "p.add_layout(labels)\n",
        "\n",
        "show(p)"
      ]
    },
    {
      "cell_type": "markdown",
      "metadata": {
        "id": "9qZcF3nGX-sp"
      },
      "source": [
        "## fastxt\n",
        "\n",
        "FastText uses not only words embeldings, but also n-grams. In the case, each word is automatically represented in the form of a set of symbolic N-grams. Say, if we set n = 3, then the vector for the word \"What\" will be represented by the sum of the vectors of the following trigrams: \"<when\", \"whe\", \"her\", \"er\", \"re>\" (where \"<\" and \">\" symbols indicating the beginning of the word). Thanks to this, we can also receive vectors for words that are absent in the dictionary, as well as work effectively with texts containing errors and typos.\n",
        "\n",
        "* [Статья](https://aclweb.org/anthology/Q17-1010)\n",
        "* [Сайт](https://fasttext.cc/)\n",
        "* [Тьюториал](https://fasttext.cc/docs/en/support.html)\n",
        "* [Вектора для 157 языков](https://fasttext.cc/docs/en/crawl-vectors.html)\n",
        "* [Вектора, обученные на википедии](https://fasttext.cc/docs/en/pretrained-vectors.html) (separately for 294 different languages)\n",
        "* [Репозиторий](https://github.com/facebookresearch/fasttext)\n",
        "\n",
        "There is a library `FastText` for python (with ready -made models you can work through` Gensim`)."
      ]
    },
    {
      "cell_type": "code",
      "execution_count": 50,
      "metadata": {
        "id": "s-IW_cBDX-sp"
      },
      "outputs": [],
      "source": [
        "# так можно обучить свою модель\n",
        "ft_model = fasttext.train_unsupervised('clean_text.txt', minn=3, maxn=4, dim=300)"
      ]
    },
    {
      "cell_type": "code",
      "execution_count": 59,
      "metadata": {
        "colab": {
          "base_uri": "https://localhost:8080/"
        },
        "id": "NNiuzf4DX-sr",
        "outputId": "cb43ae89-d202-44b5-f95a-abfebac42bf2"
      },
      "outputs": [
        {
          "output_type": "execute_result",
          "data": {
            "text/plain": [
              "array([ 0.09348863,  0.08865794, -0.01062872, -0.05482049,  0.14360785,\n",
              "        0.11044349, -0.1065911 , -0.04905809,  0.1256827 ,  0.13742325,\n",
              "       -0.03804311, -0.01221638, -0.19736831, -0.00142599, -0.05534296,\n",
              "        0.04121511, -0.07040895, -0.10771107,  0.01036993, -0.04733974],\n",
              "      dtype=float32)"
            ]
          },
          "metadata": {},
          "execution_count": 59
        }
      ],
      "source": [
        "ft_model.get_word_vector(\"movie\")[:20]"
      ]
    },
    {
      "cell_type": "code",
      "execution_count": 60,
      "metadata": {
        "colab": {
          "base_uri": "https://localhost:8080/"
        },
        "id": "TsZnXqH8X-st",
        "outputId": "dd906082-a439-4424-9f93-08b06cfe7789"
      },
      "outputs": [
        {
          "output_type": "execute_result",
          "data": {
            "text/plain": [
              "[(0.9999745488166809, 'halloween'),\n",
              " (0.999972939491272, 'green'),\n",
              " (0.999961256980896, 'steve'),\n",
              " (0.9999589323997498, 'open'),\n",
              " (0.9999557733535767, 'doubt'),\n",
              " (0.9999549388885498, 'leave'),\n",
              " (0.9999526739120483, 'beverly'),\n",
              " (0.9999523162841797, 'hayden'),\n",
              " (0.9999523162841797, 'spoken'),\n",
              " (0.9999496936798096, 'whatsoever')]"
            ]
          },
          "metadata": {},
          "execution_count": 60
        }
      ],
      "source": [
        "ft_model.get_nearest_neighbors('queen')"
      ]
    },
    {
      "cell_type": "code",
      "execution_count": 62,
      "metadata": {
        "colab": {
          "base_uri": "https://localhost:8080/"
        },
        "id": "iKR3FzCFX-sv",
        "outputId": "33b05056-7081-4c57-9807-38df74302884"
      },
      "outputs": [
        {
          "output_type": "execute_result",
          "data": {
            "text/plain": [
              "[(0.9999468326568604, 'act'),\n",
              " (0.9999309778213501, 'actress'),\n",
              " (0.9999220371246338, 'actors'),\n",
              " (0.9999140501022339, 'actual'),\n",
              " (0.9999136924743652, 'attractive'),\n",
              " (0.9999110698699951, 'doctor'),\n",
              " (0.9999055862426758, 'perspective'),\n",
              " (0.9999051094055176, 'practically'),\n",
              " (0.999904990196228, 'impact'),\n",
              " (0.9999046325683594, 'dialog')]"
            ]
          },
          "metadata": {},
          "execution_count": 62
        }
      ],
      "source": [
        "ft_model.get_analogies(\"woman\", \"man\", \"actor\")"
      ]
    },
    {
      "cell_type": "code",
      "execution_count": 63,
      "metadata": {
        "colab": {
          "base_uri": "https://localhost:8080/"
        },
        "id": "ttAgMPC_X-sx",
        "outputId": "35d10a52-f8b0-45e9-a268-af196b3e32a8"
      },
      "outputs": [
        {
          "output_type": "execute_result",
          "data": {
            "text/plain": [
              "[(0.9999285340309143, 'act'),\n",
              " (0.9999226927757263, 'actors'),\n",
              " (0.9999207258224487, 'actor'),\n",
              " (0.9999164342880249, 'actual'),\n",
              " (0.9998677968978882, 'script'),\n",
              " (0.9998634457588196, 'director'),\n",
              " (0.9998475313186646, 'actress'),\n",
              " (0.9998472929000854, 'poorly'),\n",
              " (0.9998461008071899, 'directors'),\n",
              " (0.9998441338539124, 'utterly')]"
            ]
          },
          "metadata": {},
          "execution_count": 63
        }
      ],
      "source": [
        "# проблема с опечатками решена\n",
        "\n",
        "ft_model.get_nearest_neighbors('actr')"
      ]
    },
    {
      "cell_type": "code",
      "execution_count": 64,
      "metadata": {
        "colab": {
          "base_uri": "https://localhost:8080/"
        },
        "id": "V9alEdz0X-s0",
        "outputId": "8da5b5f2-18f5-4736-8f5d-667ba7616a4f"
      },
      "outputs": [
        {
          "output_type": "execute_result",
          "data": {
            "text/plain": [
              "[(0.9999399185180664, 'reviews'),\n",
              " (0.9999369978904724, 'not'),\n",
              " (0.9999253749847412, 'review'),\n",
              " (0.9999204874038696, 'watchable'),\n",
              " (0.9999156594276428, 'reason'),\n",
              " (0.9999061226844788, 'move'),\n",
              " (0.9998998045921326, 'just'),\n",
              " (0.9998940825462341, 'rented'),\n",
              " (0.9998904466629028, 'realise'),\n",
              " (0.9998879432678223, 'won')]"
            ]
          },
          "metadata": {},
          "execution_count": 64
        }
      ],
      "source": [
        "# проблема с out of vocabulary словами - тоже\n",
        "\n",
        "ft_model.get_nearest_neighbors('moviegeek')"
      ]
    },
    {
      "cell_type": "code",
      "execution_count": 65,
      "metadata": {
        "jupyter": {
          "source_hidden": true
        },
        "colab": {
          "base_uri": "https://localhost:8080/"
        },
        "id": "rYXWjCsSW2wP",
        "outputId": "7251d240-0d7f-4a5b-8640-78c302e279c8"
      },
      "outputs": [
        {
          "output_type": "stream",
          "name": "stdout",
          "text": [
            "--2025-10-12 17:38:08--  https://www.dropbox.com/s/fnpq3z4bcnoktiv/positive.csv?dl=0\n",
            "Resolving www.dropbox.com (www.dropbox.com)... 162.125.4.18, 2620:100:6016:18::a27d:112\n",
            "Connecting to www.dropbox.com (www.dropbox.com)|162.125.4.18|:443... connected.\n",
            "HTTP request sent, awaiting response... 302 Found\n",
            "Location: https://www.dropbox.com/scl/fi/6mg7rw3wltux83q2o4ah4/positive.csv?rlkey=cvruhzofza9kkfxwzyp2vskfd&dl=0 [following]\n",
            "--2025-10-12 17:38:08--  https://www.dropbox.com/scl/fi/6mg7rw3wltux83q2o4ah4/positive.csv?rlkey=cvruhzofza9kkfxwzyp2vskfd&dl=0\n",
            "Reusing existing connection to www.dropbox.com:443.\n",
            "HTTP request sent, awaiting response... 302 Found\n",
            "Location: https://uc25a142e16073785a95d6a3cc52.dl.dropboxusercontent.com/cd/0/inline/CzGkQ9b_90zZ7JqEZr-C_-NaWm0dQ-OWInCZNqbVD1D5-XF69udP32WBKiIkS7k8Si2TI_rGizmB-qvbki5dlvGmGHp8bVUJaPKbAjc2zVeTIt5rr_FZDL_-uNbqEHYlisE/file# [following]\n",
            "--2025-10-12 17:38:08--  https://uc25a142e16073785a95d6a3cc52.dl.dropboxusercontent.com/cd/0/inline/CzGkQ9b_90zZ7JqEZr-C_-NaWm0dQ-OWInCZNqbVD1D5-XF69udP32WBKiIkS7k8Si2TI_rGizmB-qvbki5dlvGmGHp8bVUJaPKbAjc2zVeTIt5rr_FZDL_-uNbqEHYlisE/file\n",
            "Resolving uc25a142e16073785a95d6a3cc52.dl.dropboxusercontent.com (uc25a142e16073785a95d6a3cc52.dl.dropboxusercontent.com)... 162.125.4.15, 2620:100:601c:15::a27d:60f\n",
            "Connecting to uc25a142e16073785a95d6a3cc52.dl.dropboxusercontent.com (uc25a142e16073785a95d6a3cc52.dl.dropboxusercontent.com)|162.125.4.15|:443... connected.\n",
            "HTTP request sent, awaiting response... 200 OK\n",
            "Length: 26233379 (25M) [text/plain]\n",
            "Saving to: ‘positive.csv’\n",
            "\n",
            "positive.csv        100%[===================>]  25.02M  29.1MB/s    in 0.9s    \n",
            "\n",
            "2025-10-12 17:38:10 (29.1 MB/s) - ‘positive.csv’ saved [26233379/26233379]\n",
            "\n",
            "--2025-10-12 17:38:10--  https://www.dropbox.com/s/r6u59ljhhjdg6j0/negative.csv?dl=0\n",
            "Resolving www.dropbox.com (www.dropbox.com)... 162.125.4.18, 2620:100:6016:18::a27d:112\n",
            "Connecting to www.dropbox.com (www.dropbox.com)|162.125.4.18|:443... connected.\n",
            "HTTP request sent, awaiting response... 302 Found\n",
            "Location: https://www.dropbox.com/scl/fi/wui0xz78kpna56690uej4/negative.csv?rlkey=309xeou9u3rtbejw9stb13wfr&dl=0 [following]\n",
            "--2025-10-12 17:38:10--  https://www.dropbox.com/scl/fi/wui0xz78kpna56690uej4/negative.csv?rlkey=309xeou9u3rtbejw9stb13wfr&dl=0\n",
            "Reusing existing connection to www.dropbox.com:443.\n",
            "HTTP request sent, awaiting response... 302 Found\n",
            "Location: https://uc8ce77157a3eef2b8e56e48de78.dl.dropboxusercontent.com/cd/0/inline/CzFvX2CL0DF-wwjEKhzICX0bxCq7HLD7JRJchdUPRdKy6-NjUe0MhJdIBwjEtE4FzLjwrcQHVcx5KDDC5rH4ixu3anfGVLSbJS64guliJLaon8lc29ZDYgVfD5jm-AlHJFs/file# [following]\n",
            "--2025-10-12 17:38:11--  https://uc8ce77157a3eef2b8e56e48de78.dl.dropboxusercontent.com/cd/0/inline/CzFvX2CL0DF-wwjEKhzICX0bxCq7HLD7JRJchdUPRdKy6-NjUe0MhJdIBwjEtE4FzLjwrcQHVcx5KDDC5rH4ixu3anfGVLSbJS64guliJLaon8lc29ZDYgVfD5jm-AlHJFs/file\n",
            "Resolving uc8ce77157a3eef2b8e56e48de78.dl.dropboxusercontent.com (uc8ce77157a3eef2b8e56e48de78.dl.dropboxusercontent.com)... 162.125.1.15, 2620:100:6016:15::a27d:10f\n",
            "Connecting to uc8ce77157a3eef2b8e56e48de78.dl.dropboxusercontent.com (uc8ce77157a3eef2b8e56e48de78.dl.dropboxusercontent.com)|162.125.1.15|:443... connected.\n",
            "HTTP request sent, awaiting response... 200 OK\n",
            "Length: 24450101 (23M) [text/plain]\n",
            "Saving to: ‘negative.csv’\n",
            "\n",
            "negative.csv        100%[===================>]  23.32M   103MB/s    in 0.2s    \n",
            "\n",
            "2025-10-12 17:38:12 (103 MB/s) - ‘negative.csv’ saved [24450101/24450101]\n",
            "\n"
          ]
        }
      ],
      "source": [
        "! wget -O positive.csv https://www.dropbox.com/s/fnpq3z4bcnoktiv/positive.csv?dl=0\n",
        "! wget -O negative.csv https://www.dropbox.com/s/r6u59ljhhjdg6j0/negative.csv?dl=0"
      ]
    },
    {
      "cell_type": "code",
      "execution_count": 66,
      "metadata": {
        "colab": {
          "base_uri": "https://localhost:8080/",
          "height": 206
        },
        "id": "HLidtYsuX-s8",
        "outputId": "4ab03b5a-3a1d-4067-d694-cfaea2d60a17"
      },
      "outputs": [
        {
          "output_type": "execute_result",
          "data": {
            "text/plain": [
              "                                                text     label\n",
              "0  @first_timee хоть я и школота, но поверь, у на...  positive\n",
              "1  Да, все-таки он немного похож на него. Но мой ...  positive\n",
              "2  RT @KatiaCheh: Ну ты идиотка) я испугалась за ...  positive\n",
              "3  RT @digger2912: \"Кто то в углу сидит и погибае...  positive\n",
              "4  @irina_dyshkant Вот что значит страшилка :D\\nН...  positive"
            ],
            "text/html": [
              "\n",
              "  <div id=\"df-fc3d7a66-4d5e-4220-82bf-893b593de078\" class=\"colab-df-container\">\n",
              "    <div>\n",
              "<style scoped>\n",
              "    .dataframe tbody tr th:only-of-type {\n",
              "        vertical-align: middle;\n",
              "    }\n",
              "\n",
              "    .dataframe tbody tr th {\n",
              "        vertical-align: top;\n",
              "    }\n",
              "\n",
              "    .dataframe thead th {\n",
              "        text-align: right;\n",
              "    }\n",
              "</style>\n",
              "<table border=\"1\" class=\"dataframe\">\n",
              "  <thead>\n",
              "    <tr style=\"text-align: right;\">\n",
              "      <th></th>\n",
              "      <th>text</th>\n",
              "      <th>label</th>\n",
              "    </tr>\n",
              "  </thead>\n",
              "  <tbody>\n",
              "    <tr>\n",
              "      <th>0</th>\n",
              "      <td>@first_timee хоть я и школота, но поверь, у на...</td>\n",
              "      <td>positive</td>\n",
              "    </tr>\n",
              "    <tr>\n",
              "      <th>1</th>\n",
              "      <td>Да, все-таки он немного похож на него. Но мой ...</td>\n",
              "      <td>positive</td>\n",
              "    </tr>\n",
              "    <tr>\n",
              "      <th>2</th>\n",
              "      <td>RT @KatiaCheh: Ну ты идиотка) я испугалась за ...</td>\n",
              "      <td>positive</td>\n",
              "    </tr>\n",
              "    <tr>\n",
              "      <th>3</th>\n",
              "      <td>RT @digger2912: \"Кто то в углу сидит и погибае...</td>\n",
              "      <td>positive</td>\n",
              "    </tr>\n",
              "    <tr>\n",
              "      <th>4</th>\n",
              "      <td>@irina_dyshkant Вот что значит страшилка :D\\nН...</td>\n",
              "      <td>positive</td>\n",
              "    </tr>\n",
              "  </tbody>\n",
              "</table>\n",
              "</div>\n",
              "    <div class=\"colab-df-buttons\">\n",
              "\n",
              "  <div class=\"colab-df-container\">\n",
              "    <button class=\"colab-df-convert\" onclick=\"convertToInteractive('df-fc3d7a66-4d5e-4220-82bf-893b593de078')\"\n",
              "            title=\"Convert this dataframe to an interactive table.\"\n",
              "            style=\"display:none;\">\n",
              "\n",
              "  <svg xmlns=\"http://www.w3.org/2000/svg\" height=\"24px\" viewBox=\"0 -960 960 960\">\n",
              "    <path d=\"M120-120v-720h720v720H120Zm60-500h600v-160H180v160Zm220 220h160v-160H400v160Zm0 220h160v-160H400v160ZM180-400h160v-160H180v160Zm440 0h160v-160H620v160ZM180-180h160v-160H180v160Zm440 0h160v-160H620v160Z\"/>\n",
              "  </svg>\n",
              "    </button>\n",
              "\n",
              "  <style>\n",
              "    .colab-df-container {\n",
              "      display:flex;\n",
              "      gap: 12px;\n",
              "    }\n",
              "\n",
              "    .colab-df-convert {\n",
              "      background-color: #E8F0FE;\n",
              "      border: none;\n",
              "      border-radius: 50%;\n",
              "      cursor: pointer;\n",
              "      display: none;\n",
              "      fill: #1967D2;\n",
              "      height: 32px;\n",
              "      padding: 0 0 0 0;\n",
              "      width: 32px;\n",
              "    }\n",
              "\n",
              "    .colab-df-convert:hover {\n",
              "      background-color: #E2EBFA;\n",
              "      box-shadow: 0px 1px 2px rgba(60, 64, 67, 0.3), 0px 1px 3px 1px rgba(60, 64, 67, 0.15);\n",
              "      fill: #174EA6;\n",
              "    }\n",
              "\n",
              "    .colab-df-buttons div {\n",
              "      margin-bottom: 4px;\n",
              "    }\n",
              "\n",
              "    [theme=dark] .colab-df-convert {\n",
              "      background-color: #3B4455;\n",
              "      fill: #D2E3FC;\n",
              "    }\n",
              "\n",
              "    [theme=dark] .colab-df-convert:hover {\n",
              "      background-color: #434B5C;\n",
              "      box-shadow: 0px 1px 3px 1px rgba(0, 0, 0, 0.15);\n",
              "      filter: drop-shadow(0px 1px 2px rgba(0, 0, 0, 0.3));\n",
              "      fill: #FFFFFF;\n",
              "    }\n",
              "  </style>\n",
              "\n",
              "    <script>\n",
              "      const buttonEl =\n",
              "        document.querySelector('#df-fc3d7a66-4d5e-4220-82bf-893b593de078 button.colab-df-convert');\n",
              "      buttonEl.style.display =\n",
              "        google.colab.kernel.accessAllowed ? 'block' : 'none';\n",
              "\n",
              "      async function convertToInteractive(key) {\n",
              "        const element = document.querySelector('#df-fc3d7a66-4d5e-4220-82bf-893b593de078');\n",
              "        const dataTable =\n",
              "          await google.colab.kernel.invokeFunction('convertToInteractive',\n",
              "                                                    [key], {});\n",
              "        if (!dataTable) return;\n",
              "\n",
              "        const docLinkHtml = 'Like what you see? Visit the ' +\n",
              "          '<a target=\"_blank\" href=https://colab.research.google.com/notebooks/data_table.ipynb>data table notebook</a>'\n",
              "          + ' to learn more about interactive tables.';\n",
              "        element.innerHTML = '';\n",
              "        dataTable['output_type'] = 'display_data';\n",
              "        await google.colab.output.renderOutput(dataTable, element);\n",
              "        const docLink = document.createElement('div');\n",
              "        docLink.innerHTML = docLinkHtml;\n",
              "        element.appendChild(docLink);\n",
              "      }\n",
              "    </script>\n",
              "  </div>\n",
              "\n",
              "\n",
              "    <div id=\"df-6d73d1f6-2f2a-4892-9af3-c9f3ab04459c\">\n",
              "      <button class=\"colab-df-quickchart\" onclick=\"quickchart('df-6d73d1f6-2f2a-4892-9af3-c9f3ab04459c')\"\n",
              "                title=\"Suggest charts\"\n",
              "                style=\"display:none;\">\n",
              "\n",
              "<svg xmlns=\"http://www.w3.org/2000/svg\" height=\"24px\"viewBox=\"0 0 24 24\"\n",
              "     width=\"24px\">\n",
              "    <g>\n",
              "        <path d=\"M19 3H5c-1.1 0-2 .9-2 2v14c0 1.1.9 2 2 2h14c1.1 0 2-.9 2-2V5c0-1.1-.9-2-2-2zM9 17H7v-7h2v7zm4 0h-2V7h2v10zm4 0h-2v-4h2v4z\"/>\n",
              "    </g>\n",
              "</svg>\n",
              "      </button>\n",
              "\n",
              "<style>\n",
              "  .colab-df-quickchart {\n",
              "      --bg-color: #E8F0FE;\n",
              "      --fill-color: #1967D2;\n",
              "      --hover-bg-color: #E2EBFA;\n",
              "      --hover-fill-color: #174EA6;\n",
              "      --disabled-fill-color: #AAA;\n",
              "      --disabled-bg-color: #DDD;\n",
              "  }\n",
              "\n",
              "  [theme=dark] .colab-df-quickchart {\n",
              "      --bg-color: #3B4455;\n",
              "      --fill-color: #D2E3FC;\n",
              "      --hover-bg-color: #434B5C;\n",
              "      --hover-fill-color: #FFFFFF;\n",
              "      --disabled-bg-color: #3B4455;\n",
              "      --disabled-fill-color: #666;\n",
              "  }\n",
              "\n",
              "  .colab-df-quickchart {\n",
              "    background-color: var(--bg-color);\n",
              "    border: none;\n",
              "    border-radius: 50%;\n",
              "    cursor: pointer;\n",
              "    display: none;\n",
              "    fill: var(--fill-color);\n",
              "    height: 32px;\n",
              "    padding: 0;\n",
              "    width: 32px;\n",
              "  }\n",
              "\n",
              "  .colab-df-quickchart:hover {\n",
              "    background-color: var(--hover-bg-color);\n",
              "    box-shadow: 0 1px 2px rgba(60, 64, 67, 0.3), 0 1px 3px 1px rgba(60, 64, 67, 0.15);\n",
              "    fill: var(--button-hover-fill-color);\n",
              "  }\n",
              "\n",
              "  .colab-df-quickchart-complete:disabled,\n",
              "  .colab-df-quickchart-complete:disabled:hover {\n",
              "    background-color: var(--disabled-bg-color);\n",
              "    fill: var(--disabled-fill-color);\n",
              "    box-shadow: none;\n",
              "  }\n",
              "\n",
              "  .colab-df-spinner {\n",
              "    border: 2px solid var(--fill-color);\n",
              "    border-color: transparent;\n",
              "    border-bottom-color: var(--fill-color);\n",
              "    animation:\n",
              "      spin 1s steps(1) infinite;\n",
              "  }\n",
              "\n",
              "  @keyframes spin {\n",
              "    0% {\n",
              "      border-color: transparent;\n",
              "      border-bottom-color: var(--fill-color);\n",
              "      border-left-color: var(--fill-color);\n",
              "    }\n",
              "    20% {\n",
              "      border-color: transparent;\n",
              "      border-left-color: var(--fill-color);\n",
              "      border-top-color: var(--fill-color);\n",
              "    }\n",
              "    30% {\n",
              "      border-color: transparent;\n",
              "      border-left-color: var(--fill-color);\n",
              "      border-top-color: var(--fill-color);\n",
              "      border-right-color: var(--fill-color);\n",
              "    }\n",
              "    40% {\n",
              "      border-color: transparent;\n",
              "      border-right-color: var(--fill-color);\n",
              "      border-top-color: var(--fill-color);\n",
              "    }\n",
              "    60% {\n",
              "      border-color: transparent;\n",
              "      border-right-color: var(--fill-color);\n",
              "    }\n",
              "    80% {\n",
              "      border-color: transparent;\n",
              "      border-right-color: var(--fill-color);\n",
              "      border-bottom-color: var(--fill-color);\n",
              "    }\n",
              "    90% {\n",
              "      border-color: transparent;\n",
              "      border-bottom-color: var(--fill-color);\n",
              "    }\n",
              "  }\n",
              "</style>\n",
              "\n",
              "      <script>\n",
              "        async function quickchart(key) {\n",
              "          const quickchartButtonEl =\n",
              "            document.querySelector('#' + key + ' button');\n",
              "          quickchartButtonEl.disabled = true;  // To prevent multiple clicks.\n",
              "          quickchartButtonEl.classList.add('colab-df-spinner');\n",
              "          try {\n",
              "            const charts = await google.colab.kernel.invokeFunction(\n",
              "                'suggestCharts', [key], {});\n",
              "          } catch (error) {\n",
              "            console.error('Error during call to suggestCharts:', error);\n",
              "          }\n",
              "          quickchartButtonEl.classList.remove('colab-df-spinner');\n",
              "          quickchartButtonEl.classList.add('colab-df-quickchart-complete');\n",
              "        }\n",
              "        (() => {\n",
              "          let quickchartButtonEl =\n",
              "            document.querySelector('#df-6d73d1f6-2f2a-4892-9af3-c9f3ab04459c button');\n",
              "          quickchartButtonEl.style.display =\n",
              "            google.colab.kernel.accessAllowed ? 'block' : 'none';\n",
              "        })();\n",
              "      </script>\n",
              "    </div>\n",
              "\n",
              "    </div>\n",
              "  </div>\n"
            ],
            "application/vnd.google.colaboratory.intrinsic+json": {
              "type": "dataframe",
              "variable_name": "df"
            }
          },
          "metadata": {},
          "execution_count": 66
        }
      ],
      "source": [
        "positive = pd.read_csv('positive.csv', sep=';', usecols=[3], names=['text'])\n",
        "positive['label'] = ['positive'] * len(positive)\n",
        "negative = pd.read_csv('negative.csv', sep=';', usecols=[3], names=['text'])\n",
        "negative['label'] = ['negative'] * len(negative)\n",
        "df = pd.concat((positive, negative))\n",
        "df.head()"
      ]
    },
    {
      "cell_type": "code",
      "execution_count": 67,
      "metadata": {
        "colab": {
          "base_uri": "https://localhost:8080/"
        },
        "id": "-YB6B4CvmNJ8",
        "outputId": "824f30f9-0ab7-4e0d-c956-0321f819bb33"
      },
      "outputs": [
        {
          "output_type": "execute_result",
          "data": {
            "text/plain": [
              "226834"
            ]
          },
          "metadata": {},
          "execution_count": 67
        }
      ],
      "source": [
        "len(df)"
      ]
    },
    {
      "cell_type": "markdown",
      "metadata": {
        "id": "5jtZR-uYX-tA"
      },
      "source": [
        "We will conduct standard pre -processing:"
      ]
    },
    {
      "cell_type": "code",
      "execution_count": 68,
      "metadata": {
        "id": "3qAiiLvsX-tB",
        "colab": {
          "base_uri": "https://localhost:8080/"
        },
        "outputId": "9b867ed9-595d-42a1-a353-cc059302d6c3"
      },
      "outputs": [
        {
          "output_type": "stream",
          "name": "stderr",
          "text": [
            "<>:3: SyntaxWarning: invalid escape sequence '\\)'\n",
            "<>:3: SyntaxWarning: invalid escape sequence '\\)'\n",
            "/tmp/ipython-input-3134102254.py:3: SyntaxWarning: invalid escape sequence '\\)'\n",
            "  regex = re.compile(\"[А-Яа-я:=!\\)\\()A-z\\_\\%/|]+\")\n"
          ]
        }
      ],
      "source": [
        "m = MorphAnalyzer()\n",
        "\n",
        "regex = re.compile(\"[А-Яа-я:=!\\)\\()A-z\\_\\%/|]+\")\n",
        "\n",
        "def words_only(text, regex=regex):\n",
        "    try:\n",
        "        return regex.findall(text)\n",
        "    except:\n",
        "        return []"
      ]
    },
    {
      "cell_type": "code",
      "execution_count": 69,
      "metadata": {
        "id": "9zakhvVrX-tC"
      },
      "outputs": [],
      "source": [
        "#@lru_cache(maxsize=128)\n",
        "# если вы работаете не колабе, можно заменить pymorphy на mystem и раскомментирвать первую строку про lru_cache\n",
        "def lemmatize(text, pymorphy=m):\n",
        "    try:\n",
        "        return \" \".join([pymorphy.parse(w)[0].normal_form for w in text])\n",
        "    except:\n",
        "        return \" \""
      ]
    },
    {
      "cell_type": "code",
      "execution_count": 70,
      "metadata": {
        "id": "nDQdq4MLX-tE"
      },
      "outputs": [],
      "source": [
        "def clean_text(text):\n",
        "    return lemmatize(words_only(text))"
      ]
    },
    {
      "cell_type": "code",
      "execution_count": 71,
      "metadata": {
        "colab": {
          "base_uri": "https://localhost:8080/"
        },
        "id": "GqRIxgGlW2wR",
        "outputId": "1fd1ed0b-d946-4811-8181-2928da64381f"
      },
      "outputs": [
        {
          "output_type": "execute_result",
          "data": {
            "text/plain": [
              "5"
            ]
          },
          "metadata": {},
          "execution_count": 71
        }
      ],
      "source": [
        "5"
      ]
    },
    {
      "cell_type": "code",
      "execution_count": 72,
      "metadata": {
        "colab": {
          "base_uri": "https://localhost:8080/",
          "height": 293,
          "referenced_widgets": [
            "bb1d8b9d3a8c48eb804fa9b0dc2b6659",
            "c46bbcc2417447be89d6a0baec1eed8e",
            "61548c675a1e448799b6d46149440d9f",
            "3ace328c3eb740628f38c8ba6ca188c0",
            "d9e2187f22ff4fd29f6baa679c94e668",
            "24c3bf620d4e4378ac6afae26641d117",
            "223938c3c9b241d5aa14e5f88579cb9e",
            "e8105cc8c67e4a079895f03cc096f6a1",
            "16c9612bcb234de480270974c55c1722",
            "86315ff94a364b28b67a83df00b9f559",
            "e285c65747f848cd99e2cf7febad73b3"
          ]
        },
        "collapsed": true,
        "id": "fj6dS127X-tG",
        "jupyter": {
          "outputs_hidden": true
        },
        "outputId": "4d0fbead-605a-43ca-df3c-9c4771bfcee5",
        "scrolled": true
      },
      "outputs": [
        {
          "output_type": "stream",
          "name": "stderr",
          "text": [
            "/tmp/ipython-input-2187888392.py:2: TqdmDeprecationWarning: This function will be removed in tqdm==5.0.0\n",
            "Please use `tqdm.notebook.tqdm` instead of `tqdm.tqdm_notebook`\n",
            "  lemmas = list(tqdm(p.imap(clean_text, df['text']), total=len(df)))\n"
          ]
        },
        {
          "output_type": "display_data",
          "data": {
            "text/plain": [
              "  0%|          | 0/226834 [00:00<?, ?it/s]"
            ],
            "application/vnd.jupyter.widget-view+json": {
              "version_major": 2,
              "version_minor": 0,
              "model_id": "bb1d8b9d3a8c48eb804fa9b0dc2b6659"
            }
          },
          "metadata": {}
        },
        {
          "output_type": "execute_result",
          "data": {
            "text/plain": [
              "                                                text     label  \\\n",
              "0  @first_timee хоть я и школота, но поверь, у на...  positive   \n",
              "1  Да, все-таки он немного похож на него. Но мой ...  positive   \n",
              "2  RT @KatiaCheh: Ну ты идиотка) я испугалась за ...  positive   \n",
              "3  RT @digger2912: \"Кто то в углу сидит и погибае...  positive   \n",
              "4  @irina_dyshkant Вот что значит страшилка :D\\nН...  positive   \n",
              "\n",
              "                                              lemmas  \n",
              "0  first_timee хоть я и школотый но поверь у мы т...  \n",
              "1  да всё таки он немного похожий на он но мой ма...  \n",
              "2  rt katiacheh: ну ты идиотка) я испугаться за т...  \n",
              "3  rt digger : кто то в угол сидеть и погибать от...  \n",
              "4  irina_dyshkant вот что значит страшилка :d но ...  "
            ],
            "text/html": [
              "\n",
              "  <div id=\"df-18f9fc68-f7d2-451a-8190-a66674181c88\" class=\"colab-df-container\">\n",
              "    <div>\n",
              "<style scoped>\n",
              "    .dataframe tbody tr th:only-of-type {\n",
              "        vertical-align: middle;\n",
              "    }\n",
              "\n",
              "    .dataframe tbody tr th {\n",
              "        vertical-align: top;\n",
              "    }\n",
              "\n",
              "    .dataframe thead th {\n",
              "        text-align: right;\n",
              "    }\n",
              "</style>\n",
              "<table border=\"1\" class=\"dataframe\">\n",
              "  <thead>\n",
              "    <tr style=\"text-align: right;\">\n",
              "      <th></th>\n",
              "      <th>text</th>\n",
              "      <th>label</th>\n",
              "      <th>lemmas</th>\n",
              "    </tr>\n",
              "  </thead>\n",
              "  <tbody>\n",
              "    <tr>\n",
              "      <th>0</th>\n",
              "      <td>@first_timee хоть я и школота, но поверь, у на...</td>\n",
              "      <td>positive</td>\n",
              "      <td>first_timee хоть я и школотый но поверь у мы т...</td>\n",
              "    </tr>\n",
              "    <tr>\n",
              "      <th>1</th>\n",
              "      <td>Да, все-таки он немного похож на него. Но мой ...</td>\n",
              "      <td>positive</td>\n",
              "      <td>да всё таки он немного похожий на он но мой ма...</td>\n",
              "    </tr>\n",
              "    <tr>\n",
              "      <th>2</th>\n",
              "      <td>RT @KatiaCheh: Ну ты идиотка) я испугалась за ...</td>\n",
              "      <td>positive</td>\n",
              "      <td>rt katiacheh: ну ты идиотка) я испугаться за т...</td>\n",
              "    </tr>\n",
              "    <tr>\n",
              "      <th>3</th>\n",
              "      <td>RT @digger2912: \"Кто то в углу сидит и погибае...</td>\n",
              "      <td>positive</td>\n",
              "      <td>rt digger : кто то в угол сидеть и погибать от...</td>\n",
              "    </tr>\n",
              "    <tr>\n",
              "      <th>4</th>\n",
              "      <td>@irina_dyshkant Вот что значит страшилка :D\\nН...</td>\n",
              "      <td>positive</td>\n",
              "      <td>irina_dyshkant вот что значит страшилка :d но ...</td>\n",
              "    </tr>\n",
              "  </tbody>\n",
              "</table>\n",
              "</div>\n",
              "    <div class=\"colab-df-buttons\">\n",
              "\n",
              "  <div class=\"colab-df-container\">\n",
              "    <button class=\"colab-df-convert\" onclick=\"convertToInteractive('df-18f9fc68-f7d2-451a-8190-a66674181c88')\"\n",
              "            title=\"Convert this dataframe to an interactive table.\"\n",
              "            style=\"display:none;\">\n",
              "\n",
              "  <svg xmlns=\"http://www.w3.org/2000/svg\" height=\"24px\" viewBox=\"0 -960 960 960\">\n",
              "    <path d=\"M120-120v-720h720v720H120Zm60-500h600v-160H180v160Zm220 220h160v-160H400v160Zm0 220h160v-160H400v160ZM180-400h160v-160H180v160Zm440 0h160v-160H620v160ZM180-180h160v-160H180v160Zm440 0h160v-160H620v160Z\"/>\n",
              "  </svg>\n",
              "    </button>\n",
              "\n",
              "  <style>\n",
              "    .colab-df-container {\n",
              "      display:flex;\n",
              "      gap: 12px;\n",
              "    }\n",
              "\n",
              "    .colab-df-convert {\n",
              "      background-color: #E8F0FE;\n",
              "      border: none;\n",
              "      border-radius: 50%;\n",
              "      cursor: pointer;\n",
              "      display: none;\n",
              "      fill: #1967D2;\n",
              "      height: 32px;\n",
              "      padding: 0 0 0 0;\n",
              "      width: 32px;\n",
              "    }\n",
              "\n",
              "    .colab-df-convert:hover {\n",
              "      background-color: #E2EBFA;\n",
              "      box-shadow: 0px 1px 2px rgba(60, 64, 67, 0.3), 0px 1px 3px 1px rgba(60, 64, 67, 0.15);\n",
              "      fill: #174EA6;\n",
              "    }\n",
              "\n",
              "    .colab-df-buttons div {\n",
              "      margin-bottom: 4px;\n",
              "    }\n",
              "\n",
              "    [theme=dark] .colab-df-convert {\n",
              "      background-color: #3B4455;\n",
              "      fill: #D2E3FC;\n",
              "    }\n",
              "\n",
              "    [theme=dark] .colab-df-convert:hover {\n",
              "      background-color: #434B5C;\n",
              "      box-shadow: 0px 1px 3px 1px rgba(0, 0, 0, 0.15);\n",
              "      filter: drop-shadow(0px 1px 2px rgba(0, 0, 0, 0.3));\n",
              "      fill: #FFFFFF;\n",
              "    }\n",
              "  </style>\n",
              "\n",
              "    <script>\n",
              "      const buttonEl =\n",
              "        document.querySelector('#df-18f9fc68-f7d2-451a-8190-a66674181c88 button.colab-df-convert');\n",
              "      buttonEl.style.display =\n",
              "        google.colab.kernel.accessAllowed ? 'block' : 'none';\n",
              "\n",
              "      async function convertToInteractive(key) {\n",
              "        const element = document.querySelector('#df-18f9fc68-f7d2-451a-8190-a66674181c88');\n",
              "        const dataTable =\n",
              "          await google.colab.kernel.invokeFunction('convertToInteractive',\n",
              "                                                    [key], {});\n",
              "        if (!dataTable) return;\n",
              "\n",
              "        const docLinkHtml = 'Like what you see? Visit the ' +\n",
              "          '<a target=\"_blank\" href=https://colab.research.google.com/notebooks/data_table.ipynb>data table notebook</a>'\n",
              "          + ' to learn more about interactive tables.';\n",
              "        element.innerHTML = '';\n",
              "        dataTable['output_type'] = 'display_data';\n",
              "        await google.colab.output.renderOutput(dataTable, element);\n",
              "        const docLink = document.createElement('div');\n",
              "        docLink.innerHTML = docLinkHtml;\n",
              "        element.appendChild(docLink);\n",
              "      }\n",
              "    </script>\n",
              "  </div>\n",
              "\n",
              "\n",
              "    <div id=\"df-c6923a99-42dc-4d86-b69f-2ad5b633cfb7\">\n",
              "      <button class=\"colab-df-quickchart\" onclick=\"quickchart('df-c6923a99-42dc-4d86-b69f-2ad5b633cfb7')\"\n",
              "                title=\"Suggest charts\"\n",
              "                style=\"display:none;\">\n",
              "\n",
              "<svg xmlns=\"http://www.w3.org/2000/svg\" height=\"24px\"viewBox=\"0 0 24 24\"\n",
              "     width=\"24px\">\n",
              "    <g>\n",
              "        <path d=\"M19 3H5c-1.1 0-2 .9-2 2v14c0 1.1.9 2 2 2h14c1.1 0 2-.9 2-2V5c0-1.1-.9-2-2-2zM9 17H7v-7h2v7zm4 0h-2V7h2v10zm4 0h-2v-4h2v4z\"/>\n",
              "    </g>\n",
              "</svg>\n",
              "      </button>\n",
              "\n",
              "<style>\n",
              "  .colab-df-quickchart {\n",
              "      --bg-color: #E8F0FE;\n",
              "      --fill-color: #1967D2;\n",
              "      --hover-bg-color: #E2EBFA;\n",
              "      --hover-fill-color: #174EA6;\n",
              "      --disabled-fill-color: #AAA;\n",
              "      --disabled-bg-color: #DDD;\n",
              "  }\n",
              "\n",
              "  [theme=dark] .colab-df-quickchart {\n",
              "      --bg-color: #3B4455;\n",
              "      --fill-color: #D2E3FC;\n",
              "      --hover-bg-color: #434B5C;\n",
              "      --hover-fill-color: #FFFFFF;\n",
              "      --disabled-bg-color: #3B4455;\n",
              "      --disabled-fill-color: #666;\n",
              "  }\n",
              "\n",
              "  .colab-df-quickchart {\n",
              "    background-color: var(--bg-color);\n",
              "    border: none;\n",
              "    border-radius: 50%;\n",
              "    cursor: pointer;\n",
              "    display: none;\n",
              "    fill: var(--fill-color);\n",
              "    height: 32px;\n",
              "    padding: 0;\n",
              "    width: 32px;\n",
              "  }\n",
              "\n",
              "  .colab-df-quickchart:hover {\n",
              "    background-color: var(--hover-bg-color);\n",
              "    box-shadow: 0 1px 2px rgba(60, 64, 67, 0.3), 0 1px 3px 1px rgba(60, 64, 67, 0.15);\n",
              "    fill: var(--button-hover-fill-color);\n",
              "  }\n",
              "\n",
              "  .colab-df-quickchart-complete:disabled,\n",
              "  .colab-df-quickchart-complete:disabled:hover {\n",
              "    background-color: var(--disabled-bg-color);\n",
              "    fill: var(--disabled-fill-color);\n",
              "    box-shadow: none;\n",
              "  }\n",
              "\n",
              "  .colab-df-spinner {\n",
              "    border: 2px solid var(--fill-color);\n",
              "    border-color: transparent;\n",
              "    border-bottom-color: var(--fill-color);\n",
              "    animation:\n",
              "      spin 1s steps(1) infinite;\n",
              "  }\n",
              "\n",
              "  @keyframes spin {\n",
              "    0% {\n",
              "      border-color: transparent;\n",
              "      border-bottom-color: var(--fill-color);\n",
              "      border-left-color: var(--fill-color);\n",
              "    }\n",
              "    20% {\n",
              "      border-color: transparent;\n",
              "      border-left-color: var(--fill-color);\n",
              "      border-top-color: var(--fill-color);\n",
              "    }\n",
              "    30% {\n",
              "      border-color: transparent;\n",
              "      border-left-color: var(--fill-color);\n",
              "      border-top-color: var(--fill-color);\n",
              "      border-right-color: var(--fill-color);\n",
              "    }\n",
              "    40% {\n",
              "      border-color: transparent;\n",
              "      border-right-color: var(--fill-color);\n",
              "      border-top-color: var(--fill-color);\n",
              "    }\n",
              "    60% {\n",
              "      border-color: transparent;\n",
              "      border-right-color: var(--fill-color);\n",
              "    }\n",
              "    80% {\n",
              "      border-color: transparent;\n",
              "      border-right-color: var(--fill-color);\n",
              "      border-bottom-color: var(--fill-color);\n",
              "    }\n",
              "    90% {\n",
              "      border-color: transparent;\n",
              "      border-bottom-color: var(--fill-color);\n",
              "    }\n",
              "  }\n",
              "</style>\n",
              "\n",
              "      <script>\n",
              "        async function quickchart(key) {\n",
              "          const quickchartButtonEl =\n",
              "            document.querySelector('#' + key + ' button');\n",
              "          quickchartButtonEl.disabled = true;  // To prevent multiple clicks.\n",
              "          quickchartButtonEl.classList.add('colab-df-spinner');\n",
              "          try {\n",
              "            const charts = await google.colab.kernel.invokeFunction(\n",
              "                'suggestCharts', [key], {});\n",
              "          } catch (error) {\n",
              "            console.error('Error during call to suggestCharts:', error);\n",
              "          }\n",
              "          quickchartButtonEl.classList.remove('colab-df-spinner');\n",
              "          quickchartButtonEl.classList.add('colab-df-quickchart-complete');\n",
              "        }\n",
              "        (() => {\n",
              "          let quickchartButtonEl =\n",
              "            document.querySelector('#df-c6923a99-42dc-4d86-b69f-2ad5b633cfb7 button');\n",
              "          quickchartButtonEl.style.display =\n",
              "            google.colab.kernel.accessAllowed ? 'block' : 'none';\n",
              "        })();\n",
              "      </script>\n",
              "    </div>\n",
              "\n",
              "    </div>\n",
              "  </div>\n"
            ],
            "application/vnd.google.colaboratory.intrinsic+json": {
              "type": "dataframe",
              "variable_name": "df"
            }
          },
          "metadata": {},
          "execution_count": 72
        }
      ],
      "source": [
        "with Pool(8) as p:\n",
        "    lemmas = list(tqdm(p.imap(clean_text, df['text']), total=len(df)))\n",
        "\n",
        "df['lemmas'] = lemmas\n",
        "df.head()"
      ]
    },
    {
      "cell_type": "markdown",
      "metadata": {
        "id": "3QuPeLrvX-tI"
      },
      "source": [
        "We write down the received data in format for teaching the classifier:"
      ]
    },
    {
      "cell_type": "code",
      "execution_count": 73,
      "metadata": {
        "colab": {
          "base_uri": "https://localhost:8080/"
        },
        "id": "AGOFQSekX-tI",
        "outputId": "1aee1458-ec6b-4a4d-e9b4-146e59f8b32e"
      },
      "outputs": [
        {
          "output_type": "stream",
          "name": "stdout",
          "text": [
            "total train examples 151978\n",
            "total test examples 74856\n"
          ]
        }
      ],
      "source": [
        "X = df.lemmas.tolist()\n",
        "y = df.label.tolist()\n",
        "\n",
        "X, y = np.array(X), np.array(y)\n",
        "\n",
        "X_train, X_test, y_train, y_test = train_test_split(X,y, test_size=0.33)\n",
        "print (\"total train examples %s\" % len(y_train))\n",
        "print (\"total test examples %s\" % len(y_test))"
      ]
    },
    {
      "cell_type": "code",
      "execution_count": 74,
      "metadata": {
        "id": "mogTwRfnX-tK"
      },
      "outputs": [],
      "source": [
        "with open('data.train.txt', 'w+') as outfile:\n",
        "    for i in range(len(X_train)):\n",
        "        outfile.write('__label__' + y_train[i] + ' '+ X_train[i] + '\\n')\n",
        "\n",
        "\n",
        "with open('test.txt', 'w+') as outfile:\n",
        "    for i in range(len(X_test)):\n",
        "        outfile.write('__label__' + y_test[i] + ' ' + X_test[i] + '\\n')"
      ]
    },
    {
      "cell_type": "code",
      "execution_count": 75,
      "metadata": {
        "colab": {
          "base_uri": "https://localhost:8080/"
        },
        "id": "u0rt2mhjX-tL",
        "outputId": "952f991c-f1e4-4449-d76f-9c7ec43a47ee"
      },
      "outputs": [
        {
          "output_type": "stream",
          "name": "stdout",
          "text": [
            "P@1: 0.8965346799187773\n",
            "R@1: 0.8965346799187773\n",
            "Number of examples: 74856\n"
          ]
        }
      ],
      "source": [
        "classifier = fasttext.train_supervised('data.train.txt')\n",
        "result = classifier.test('test.txt')\n",
        "\n",
        "print('P@1:', result[1])\n",
        "print('R@1:', result[2])\n",
        "print('Number of examples:', result[0])"
      ]
    },
    {
      "cell_type": "code",
      "execution_count": null,
      "metadata": {
        "id": "jCJ5QA0m0rOc"
      },
      "outputs": [],
      "source": []
    }
  ],
  "metadata": {
    "colab": {
      "collapsed_sections": [
        "yXNm8flVX-rP",
        "0rfihwVJKwzC",
        "ZNHMtmbqX-rl",
        "CXKnPffPX-sY",
        "Sv0wxUXIX-se"
      ],
      "provenance": []
    },
    "kernelspec": {
      "display_name": "Python 3 (ipykernel)",
      "language": "python",
      "name": "python3"
    },
    "language_info": {
      "codemirror_mode": {
        "name": "ipython",
        "version": 3
      },
      "file_extension": ".py",
      "mimetype": "text/x-python",
      "name": "python",
      "nbconvert_exporter": "python",
      "pygments_lexer": "ipython3",
      "version": "3.12.4"
    },
    "widgets": {
      "application/vnd.jupyter.widget-state+json": {
        "bb1d8b9d3a8c48eb804fa9b0dc2b6659": {
          "model_module": "@jupyter-widgets/controls",
          "model_name": "HBoxModel",
          "model_module_version": "1.5.0",
          "state": {
            "_dom_classes": [],
            "_model_module": "@jupyter-widgets/controls",
            "_model_module_version": "1.5.0",
            "_model_name": "HBoxModel",
            "_view_count": null,
            "_view_module": "@jupyter-widgets/controls",
            "_view_module_version": "1.5.0",
            "_view_name": "HBoxView",
            "box_style": "",
            "children": [
              "IPY_MODEL_c46bbcc2417447be89d6a0baec1eed8e",
              "IPY_MODEL_61548c675a1e448799b6d46149440d9f",
              "IPY_MODEL_3ace328c3eb740628f38c8ba6ca188c0"
            ],
            "layout": "IPY_MODEL_d9e2187f22ff4fd29f6baa679c94e668"
          }
        },
        "c46bbcc2417447be89d6a0baec1eed8e": {
          "model_module": "@jupyter-widgets/controls",
          "model_name": "HTMLModel",
          "model_module_version": "1.5.0",
          "state": {
            "_dom_classes": [],
            "_model_module": "@jupyter-widgets/controls",
            "_model_module_version": "1.5.0",
            "_model_name": "HTMLModel",
            "_view_count": null,
            "_view_module": "@jupyter-widgets/controls",
            "_view_module_version": "1.5.0",
            "_view_name": "HTMLView",
            "description": "",
            "description_tooltip": null,
            "layout": "IPY_MODEL_24c3bf620d4e4378ac6afae26641d117",
            "placeholder": "​",
            "style": "IPY_MODEL_223938c3c9b241d5aa14e5f88579cb9e",
            "value": "100%"
          }
        },
        "61548c675a1e448799b6d46149440d9f": {
          "model_module": "@jupyter-widgets/controls",
          "model_name": "FloatProgressModel",
          "model_module_version": "1.5.0",
          "state": {
            "_dom_classes": [],
            "_model_module": "@jupyter-widgets/controls",
            "_model_module_version": "1.5.0",
            "_model_name": "FloatProgressModel",
            "_view_count": null,
            "_view_module": "@jupyter-widgets/controls",
            "_view_module_version": "1.5.0",
            "_view_name": "ProgressView",
            "bar_style": "success",
            "description": "",
            "description_tooltip": null,
            "layout": "IPY_MODEL_e8105cc8c67e4a079895f03cc096f6a1",
            "max": 226834,
            "min": 0,
            "orientation": "horizontal",
            "style": "IPY_MODEL_16c9612bcb234de480270974c55c1722",
            "value": 226834
          }
        },
        "3ace328c3eb740628f38c8ba6ca188c0": {
          "model_module": "@jupyter-widgets/controls",
          "model_name": "HTMLModel",
          "model_module_version": "1.5.0",
          "state": {
            "_dom_classes": [],
            "_model_module": "@jupyter-widgets/controls",
            "_model_module_version": "1.5.0",
            "_model_name": "HTMLModel",
            "_view_count": null,
            "_view_module": "@jupyter-widgets/controls",
            "_view_module_version": "1.5.0",
            "_view_name": "HTMLView",
            "description": "",
            "description_tooltip": null,
            "layout": "IPY_MODEL_86315ff94a364b28b67a83df00b9f559",
            "placeholder": "​",
            "style": "IPY_MODEL_e285c65747f848cd99e2cf7febad73b3",
            "value": " 226834/226834 [09:55&lt;00:00, 424.28it/s]"
          }
        },
        "d9e2187f22ff4fd29f6baa679c94e668": {
          "model_module": "@jupyter-widgets/base",
          "model_name": "LayoutModel",
          "model_module_version": "1.2.0",
          "state": {
            "_model_module": "@jupyter-widgets/base",
            "_model_module_version": "1.2.0",
            "_model_name": "LayoutModel",
            "_view_count": null,
            "_view_module": "@jupyter-widgets/base",
            "_view_module_version": "1.2.0",
            "_view_name": "LayoutView",
            "align_content": null,
            "align_items": null,
            "align_self": null,
            "border": null,
            "bottom": null,
            "display": null,
            "flex": null,
            "flex_flow": null,
            "grid_area": null,
            "grid_auto_columns": null,
            "grid_auto_flow": null,
            "grid_auto_rows": null,
            "grid_column": null,
            "grid_gap": null,
            "grid_row": null,
            "grid_template_areas": null,
            "grid_template_columns": null,
            "grid_template_rows": null,
            "height": null,
            "justify_content": null,
            "justify_items": null,
            "left": null,
            "margin": null,
            "max_height": null,
            "max_width": null,
            "min_height": null,
            "min_width": null,
            "object_fit": null,
            "object_position": null,
            "order": null,
            "overflow": null,
            "overflow_x": null,
            "overflow_y": null,
            "padding": null,
            "right": null,
            "top": null,
            "visibility": null,
            "width": null
          }
        },
        "24c3bf620d4e4378ac6afae26641d117": {
          "model_module": "@jupyter-widgets/base",
          "model_name": "LayoutModel",
          "model_module_version": "1.2.0",
          "state": {
            "_model_module": "@jupyter-widgets/base",
            "_model_module_version": "1.2.0",
            "_model_name": "LayoutModel",
            "_view_count": null,
            "_view_module": "@jupyter-widgets/base",
            "_view_module_version": "1.2.0",
            "_view_name": "LayoutView",
            "align_content": null,
            "align_items": null,
            "align_self": null,
            "border": null,
            "bottom": null,
            "display": null,
            "flex": null,
            "flex_flow": null,
            "grid_area": null,
            "grid_auto_columns": null,
            "grid_auto_flow": null,
            "grid_auto_rows": null,
            "grid_column": null,
            "grid_gap": null,
            "grid_row": null,
            "grid_template_areas": null,
            "grid_template_columns": null,
            "grid_template_rows": null,
            "height": null,
            "justify_content": null,
            "justify_items": null,
            "left": null,
            "margin": null,
            "max_height": null,
            "max_width": null,
            "min_height": null,
            "min_width": null,
            "object_fit": null,
            "object_position": null,
            "order": null,
            "overflow": null,
            "overflow_x": null,
            "overflow_y": null,
            "padding": null,
            "right": null,
            "top": null,
            "visibility": null,
            "width": null
          }
        },
        "223938c3c9b241d5aa14e5f88579cb9e": {
          "model_module": "@jupyter-widgets/controls",
          "model_name": "DescriptionStyleModel",
          "model_module_version": "1.5.0",
          "state": {
            "_model_module": "@jupyter-widgets/controls",
            "_model_module_version": "1.5.0",
            "_model_name": "DescriptionStyleModel",
            "_view_count": null,
            "_view_module": "@jupyter-widgets/base",
            "_view_module_version": "1.2.0",
            "_view_name": "StyleView",
            "description_width": ""
          }
        },
        "e8105cc8c67e4a079895f03cc096f6a1": {
          "model_module": "@jupyter-widgets/base",
          "model_name": "LayoutModel",
          "model_module_version": "1.2.0",
          "state": {
            "_model_module": "@jupyter-widgets/base",
            "_model_module_version": "1.2.0",
            "_model_name": "LayoutModel",
            "_view_count": null,
            "_view_module": "@jupyter-widgets/base",
            "_view_module_version": "1.2.0",
            "_view_name": "LayoutView",
            "align_content": null,
            "align_items": null,
            "align_self": null,
            "border": null,
            "bottom": null,
            "display": null,
            "flex": null,
            "flex_flow": null,
            "grid_area": null,
            "grid_auto_columns": null,
            "grid_auto_flow": null,
            "grid_auto_rows": null,
            "grid_column": null,
            "grid_gap": null,
            "grid_row": null,
            "grid_template_areas": null,
            "grid_template_columns": null,
            "grid_template_rows": null,
            "height": null,
            "justify_content": null,
            "justify_items": null,
            "left": null,
            "margin": null,
            "max_height": null,
            "max_width": null,
            "min_height": null,
            "min_width": null,
            "object_fit": null,
            "object_position": null,
            "order": null,
            "overflow": null,
            "overflow_x": null,
            "overflow_y": null,
            "padding": null,
            "right": null,
            "top": null,
            "visibility": null,
            "width": null
          }
        },
        "16c9612bcb234de480270974c55c1722": {
          "model_module": "@jupyter-widgets/controls",
          "model_name": "ProgressStyleModel",
          "model_module_version": "1.5.0",
          "state": {
            "_model_module": "@jupyter-widgets/controls",
            "_model_module_version": "1.5.0",
            "_model_name": "ProgressStyleModel",
            "_view_count": null,
            "_view_module": "@jupyter-widgets/base",
            "_view_module_version": "1.2.0",
            "_view_name": "StyleView",
            "bar_color": null,
            "description_width": ""
          }
        },
        "86315ff94a364b28b67a83df00b9f559": {
          "model_module": "@jupyter-widgets/base",
          "model_name": "LayoutModel",
          "model_module_version": "1.2.0",
          "state": {
            "_model_module": "@jupyter-widgets/base",
            "_model_module_version": "1.2.0",
            "_model_name": "LayoutModel",
            "_view_count": null,
            "_view_module": "@jupyter-widgets/base",
            "_view_module_version": "1.2.0",
            "_view_name": "LayoutView",
            "align_content": null,
            "align_items": null,
            "align_self": null,
            "border": null,
            "bottom": null,
            "display": null,
            "flex": null,
            "flex_flow": null,
            "grid_area": null,
            "grid_auto_columns": null,
            "grid_auto_flow": null,
            "grid_auto_rows": null,
            "grid_column": null,
            "grid_gap": null,
            "grid_row": null,
            "grid_template_areas": null,
            "grid_template_columns": null,
            "grid_template_rows": null,
            "height": null,
            "justify_content": null,
            "justify_items": null,
            "left": null,
            "margin": null,
            "max_height": null,
            "max_width": null,
            "min_height": null,
            "min_width": null,
            "object_fit": null,
            "object_position": null,
            "order": null,
            "overflow": null,
            "overflow_x": null,
            "overflow_y": null,
            "padding": null,
            "right": null,
            "top": null,
            "visibility": null,
            "width": null
          }
        },
        "e285c65747f848cd99e2cf7febad73b3": {
          "model_module": "@jupyter-widgets/controls",
          "model_name": "DescriptionStyleModel",
          "model_module_version": "1.5.0",
          "state": {
            "_model_module": "@jupyter-widgets/controls",
            "_model_module_version": "1.5.0",
            "_model_name": "DescriptionStyleModel",
            "_view_count": null,
            "_view_module": "@jupyter-widgets/base",
            "_view_module_version": "1.2.0",
            "_view_name": "StyleView",
            "description_width": ""
          }
        }
      }
    }
  },
  "nbformat": 4,
  "nbformat_minor": 0
}